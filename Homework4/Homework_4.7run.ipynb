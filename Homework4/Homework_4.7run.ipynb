{
 "cells": [
  {
   "cell_type": "markdown",
   "metadata": {},
   "source": [
    "# Table of Contents\n",
    " <p><div><a href=\"#Question-1:-Propensity-score-matching\"><span class=\"toc-item-num\">Question 1.&nbsp;&nbsp;</span>Propensity score matching</a></div>\n",
    " <ul style=\"list-style-type:none\">\n",
    " <li><a href=\"#1.-A-naive-analysis\"><span class=\"toc-item-num\">1.&nbsp;&nbsp;</span>A naive analysis</a></div>\n",
    " <div class=\"lev1\"><a href=\"#2.-A-closer-look-at-the-data\"><span class=\"toc-item-num\">2.&nbsp;&nbsp;</span>A closer look at the data</a></li>\n",
    " <li><a href=\"#3.-A-propensity-score-model\"><span class=\"toc-item-num\">3.&nbsp;&nbsp;</span>A propensity score model</a></li>\n",
    " <li><a href=\"#4.-Balancing-the-dataset-via-matching\"><span class=\"toc-item-num\">4.&nbsp;&nbsp;</span>Balancing the dataset via matching</a></li>\n",
    " <li><a href=\"#5.-Balancing-the-groups-further\"><span class=\"toc-item-num\">5.&nbsp;&nbsp;</span>Balancing the groups further</a></li>\n",
    " <li><a href=\"#6.-A-less-naive-analysis\"><span class=\"toc-item-num\">6.&nbsp;&nbsp;</span>Balancing the groups further</a></li>\n",
    " </ul>\n",
    " <div><a href=\"#Question-2:-Applied-ML\"><span class=\"toc-item-num\">Question 2.&nbsp;&nbsp;</span>Applied ML</a></div></p>"
   ]
  },
  {
   "cell_type": "code",
   "execution_count": 62,
   "metadata": {
    "collapsed": true
   },
   "outputs": [],
   "source": [
    "import pandas as pd\n",
    "import matplotlib.pyplot as plt\n",
    "import seaborn as sns\n",
    "import numpy as np\n",
    "from sklearn import linear_model\n",
    "from sklearn.linear_model import LogisticRegression\n",
    "%matplotlib inline"
   ]
  },
  {
   "cell_type": "markdown",
   "metadata": {},
   "source": [
    "## Question 1: Propensity score matching"
   ]
  },
  {
   "cell_type": "markdown",
   "metadata": {},
   "source": [
    "### 1. A naive analysis"
   ]
  },
  {
   "cell_type": "markdown",
   "metadata": {},
   "source": [
    "Compare the distribution of the outcome variable (re78) between the two groups, using plots and numbers. To summarize and compare the distributions, you may use the techniques we discussed in lectures 4 (\"Read the stats carefully\") and 6 (\"Data visualization\")."
   ]
  },
  {
   "cell_type": "markdown",
   "metadata": {},
   "source": [
    "We load the data from the csv file."
   ]
  },
  {
   "cell_type": "code",
   "execution_count": 63,
   "metadata": {},
   "outputs": [
    {
     "data": {
      "text/html": [
       "<div>\n",
       "<style>\n",
       "    .dataframe thead tr:only-child th {\n",
       "        text-align: right;\n",
       "    }\n",
       "\n",
       "    .dataframe thead th {\n",
       "        text-align: left;\n",
       "    }\n",
       "\n",
       "    .dataframe tbody tr th {\n",
       "        vertical-align: top;\n",
       "    }\n",
       "</style>\n",
       "<table border=\"1\" class=\"dataframe\">\n",
       "  <thead>\n",
       "    <tr style=\"text-align: right;\">\n",
       "      <th></th>\n",
       "      <th>id</th>\n",
       "      <th>treat</th>\n",
       "      <th>age</th>\n",
       "      <th>educ</th>\n",
       "      <th>black</th>\n",
       "      <th>hispan</th>\n",
       "      <th>married</th>\n",
       "      <th>nodegree</th>\n",
       "      <th>re74</th>\n",
       "      <th>re75</th>\n",
       "      <th>re78</th>\n",
       "    </tr>\n",
       "  </thead>\n",
       "  <tbody>\n",
       "    <tr>\n",
       "      <th>0</th>\n",
       "      <td>NSW1</td>\n",
       "      <td>1</td>\n",
       "      <td>37</td>\n",
       "      <td>11</td>\n",
       "      <td>1</td>\n",
       "      <td>0</td>\n",
       "      <td>1</td>\n",
       "      <td>1</td>\n",
       "      <td>0.0</td>\n",
       "      <td>0.0</td>\n",
       "      <td>9930.046</td>\n",
       "    </tr>\n",
       "    <tr>\n",
       "      <th>1</th>\n",
       "      <td>NSW2</td>\n",
       "      <td>1</td>\n",
       "      <td>22</td>\n",
       "      <td>9</td>\n",
       "      <td>0</td>\n",
       "      <td>1</td>\n",
       "      <td>0</td>\n",
       "      <td>1</td>\n",
       "      <td>0.0</td>\n",
       "      <td>0.0</td>\n",
       "      <td>3595.894</td>\n",
       "    </tr>\n",
       "  </tbody>\n",
       "</table>\n",
       "</div>"
      ],
      "text/plain": [
       "     id  treat  age  educ  black  hispan  married  nodegree  re74  re75  \\\n",
       "0  NSW1      1   37    11      1       0        1         1   0.0   0.0   \n",
       "1  NSW2      1   22     9      0       1        0         1   0.0   0.0   \n",
       "\n",
       "       re78  \n",
       "0  9930.046  \n",
       "1  3595.894  "
      ]
     },
     "execution_count": 63,
     "metadata": {},
     "output_type": "execute_result"
    }
   ],
   "source": [
    "data = pd.read_csv('lalonde.csv')\n",
    "data.head(2)"
   ]
  },
  {
   "cell_type": "markdown",
   "metadata": {},
   "source": [
    "We split the dataset into two groups, the treated and the control group, and we plot their distribution."
   ]
  },
  {
   "cell_type": "code",
   "execution_count": 64,
   "metadata": {
    "collapsed": true,
    "scrolled": true
   },
   "outputs": [],
   "source": [
    "#split the dataset into groups\n",
    "treated_group = data[data.treat == 1]\n",
    "control_group = data[data.treat == 0]"
   ]
  },
  {
   "cell_type": "code",
   "execution_count": 65,
   "metadata": {},
   "outputs": [
    {
     "data": {
      "text/plain": [
       "<matplotlib.text.Text at 0x11a184c18>"
      ]
     },
     "execution_count": 65,
     "metadata": {},
     "output_type": "execute_result"
    },
    {
     "data": {
      "image/png": "[encoded data removed]",
      "text/plain": [
       "<matplotlib.figure.Figure at 0x11a380898>"
      ]
     },
     "metadata": {},
     "output_type": "display_data"
    }
   ],
   "source": [
    "#plot the distribution\n",
    "f, axs = plt.subplots(1,2,sharey=True, figsize=(16, 7))\n",
    "sns.distplot(treated_group['re78'], ax=axs[0], axlabel='Real earnings in 1978').set_title(\"Treated group\")\n",
    "sns.distplot(control_group['re78'], ax=axs[1], axlabel='Real earnings in 1978').set_title(\"Control group\")"
   ]
  },
  {
   "cell_type": "markdown",
   "metadata": {},
   "source": [
    "We observe that in the treated group there are datapoints with very high values in the feature \"real earnings in 1978\". We use boxplots to check if we need to take into consideration these large values or they are oultiers."
   ]
  },
  {
   "cell_type": "code",
   "execution_count": 66,
   "metadata": {},
   "outputs": [
    {
     "data": {
      "text/plain": [
       "<matplotlib.axes._subplots.AxesSubplot at 0x11b468940>"
      ]
     },
     "execution_count": 66,
     "metadata": {},
     "output_type": "execute_result"
    },
    {
     "data": {
      "image/png": "[encoded data removed]",
      "text/plain": [
       "<matplotlib.figure.Figure at 0x11a3d5668>"
      ]
     },
     "metadata": {},
     "output_type": "display_data"
    }
   ],
   "source": [
    "#plot the boxplots\n",
    "f, axs = plt.subplots(1,2,sharey=True)\n",
    "treated_group.plot.box(y='re78', ax=axs[0], title = 'Treated group', figsize=(16, 7), grid=True)\n",
    "control_group.plot.box(y='re78', ax=axs[1], title = 'Control group', grid=True)"
   ]
  },
  {
   "cell_type": "markdown",
   "metadata": {},
   "source": [
    "Our assumption is correct. These very large salary values are outliers. Hence, in this first naive approach we observe that the treated group has not better results form the control group considering the real earnings of 1978."
   ]
  },
  {
   "cell_type": "markdown",
   "metadata": {},
   "source": [
    "### 2. A closer look at the data"
   ]
  },
  {
   "cell_type": "markdown",
   "metadata": {
    "collapsed": true
   },
   "source": [
    "For each feature in the dataset, compare its distribution in the treated group with its distribution in the control group, using plots and numbers. As above, you may use the techniques we discussed in class for summarizing and comparing the distributions.\n",
    "\n",
    "What do you observe? Describe what your observations mean for the conclusions drawn by the naive \"researcher\" from his superficial analysis."
   ]
  },
  {
   "cell_type": "markdown",
   "metadata": {},
   "source": [
    "Taking the whole dataset and just considering the real earning from 1978, independently from the status, education and other aspects of the personal backgrounds is indeed naive. \n",
    "A first approach now is to consider the data from each feature, hence we are going to split the dataset into the following categories:\n",
    "* Ethnicity (White, Black, Hispanic)\n",
    "* Married/Non married\n",
    "* Degree/Non degree\n",
    "* Education years intervals\n",
    "* Age intervals"
   ]
  },
  {
   "cell_type": "markdown",
   "metadata": {
    "collapsed": true
   },
   "source": [
    "<h3> Ethnicity"
   ]
  },
  {
   "cell_type": "markdown",
   "metadata": {},
   "source": [
    "First we get the categories, making distinction between those who received treatment and those who did not (control)"
   ]
  },
  {
   "cell_type": "code",
   "execution_count": 67,
   "metadata": {
    "collapsed": true
   },
   "outputs": [],
   "source": [
    "black_treated = treated_group[treated_group.black == 1]\n",
    "hispanic_treated = treated_group[treated_group.hispan == 1]\n",
    "white_treated = treated_group[np.logical_and(treated_group.black == 0, treated_group.hispan == 0)]\n",
    "\n",
    "black_control = control_group[control_group.black == 1]\n",
    "hispanic_control = control_group[control_group.hispan == 1]\n",
    "white_control = control_group[np.logical_and(control_group.black == 0, control_group.hispan == 0)]"
   ]
  },
  {
   "cell_type": "markdown",
   "metadata": {},
   "source": [
    "First of all we abserve how many people are there in each group"
   ]
  },
  {
   "cell_type": "code",
   "execution_count": 68,
   "metadata": {
    "collapsed": true
   },
   "outputs": [],
   "source": [
    "white = pd.DataFrame({'Treated': white_treated.re78.describe(), 'Control': white_control.re78.describe()})\n",
    "black = pd.DataFrame({'Treated': black_treated.re78.describe(), 'Control': black_control.re78.describe()})\n",
    "hispanic = pd.DataFrame({'Treated': hispanic_treated.re78.describe(), 'Control': hispanic_control.re78.describe()})"
   ]
  },
  {
   "cell_type": "code",
   "execution_count": 69,
   "metadata": {},
   "outputs": [
    {
     "data": {
      "text/html": [
       "<div>\n",
       "<style>\n",
       "    .dataframe thead tr:only-child th {\n",
       "        text-align: right;\n",
       "    }\n",
       "\n",
       "    .dataframe thead th {\n",
       "        text-align: left;\n",
       "    }\n",
       "\n",
       "    .dataframe tbody tr th {\n",
       "        vertical-align: top;\n",
       "    }\n",
       "</style>\n",
       "<table border=\"1\" class=\"dataframe\">\n",
       "  <thead>\n",
       "    <tr style=\"text-align: right;\">\n",
       "      <th></th>\n",
       "      <th>Control</th>\n",
       "      <th>Treated</th>\n",
       "    </tr>\n",
       "  </thead>\n",
       "  <tbody>\n",
       "    <tr>\n",
       "      <th>count</th>\n",
       "      <td>281.000000</td>\n",
       "      <td>18.000000</td>\n",
       "    </tr>\n",
       "    <tr>\n",
       "      <th>mean</th>\n",
       "      <td>7617.885509</td>\n",
       "      <td>7720.992278</td>\n",
       "    </tr>\n",
       "    <tr>\n",
       "      <th>std</th>\n",
       "      <td>7554.486506</td>\n",
       "      <td>5564.944194</td>\n",
       "    </tr>\n",
       "    <tr>\n",
       "      <th>min</th>\n",
       "      <td>0.000000</td>\n",
       "      <td>0.000000</td>\n",
       "    </tr>\n",
       "    <tr>\n",
       "      <th>25%</th>\n",
       "      <td>675.321000</td>\n",
       "      <td>4254.658000</td>\n",
       "    </tr>\n",
       "    <tr>\n",
       "      <th>50%</th>\n",
       "      <td>5748.356000</td>\n",
       "      <td>5998.226500</td>\n",
       "    </tr>\n",
       "    <tr>\n",
       "      <th>75%</th>\n",
       "      <td>12705.490000</td>\n",
       "      <td>12582.537500</td>\n",
       "    </tr>\n",
       "    <tr>\n",
       "      <th>max</th>\n",
       "      <td>25564.670000</td>\n",
       "      <td>18783.350000</td>\n",
       "    </tr>\n",
       "  </tbody>\n",
       "</table>\n",
       "</div>"
      ],
      "text/plain": [
       "            Control       Treated\n",
       "count    281.000000     18.000000\n",
       "mean    7617.885509   7720.992278\n",
       "std     7554.486506   5564.944194\n",
       "min        0.000000      0.000000\n",
       "25%      675.321000   4254.658000\n",
       "50%     5748.356000   5998.226500\n",
       "75%    12705.490000  12582.537500\n",
       "max    25564.670000  18783.350000"
      ]
     },
     "execution_count": 69,
     "metadata": {},
     "output_type": "execute_result"
    }
   ],
   "source": [
    "white"
   ]
  },
  {
   "cell_type": "code",
   "execution_count": 70,
   "metadata": {},
   "outputs": [
    {
     "data": {
      "text/html": [
       "<div>\n",
       "<style>\n",
       "    .dataframe thead tr:only-child th {\n",
       "        text-align: right;\n",
       "    }\n",
       "\n",
       "    .dataframe thead th {\n",
       "        text-align: left;\n",
       "    }\n",
       "\n",
       "    .dataframe tbody tr th {\n",
       "        vertical-align: top;\n",
       "    }\n",
       "</style>\n",
       "<table border=\"1\" class=\"dataframe\">\n",
       "  <thead>\n",
       "    <tr style=\"text-align: right;\">\n",
       "      <th></th>\n",
       "      <th>Control</th>\n",
       "      <th>Treated</th>\n",
       "    </tr>\n",
       "  </thead>\n",
       "  <tbody>\n",
       "    <tr>\n",
       "      <th>count</th>\n",
       "      <td>61.000000</td>\n",
       "      <td>11.000000</td>\n",
       "    </tr>\n",
       "    <tr>\n",
       "      <th>mean</th>\n",
       "      <td>7103.843464</td>\n",
       "      <td>7122.515564</td>\n",
       "    </tr>\n",
       "    <tr>\n",
       "      <th>std</th>\n",
       "      <td>7042.244123</td>\n",
       "      <td>7320.482894</td>\n",
       "    </tr>\n",
       "    <tr>\n",
       "      <th>min</th>\n",
       "      <td>0.000000</td>\n",
       "      <td>559.443200</td>\n",
       "    </tr>\n",
       "    <tr>\n",
       "      <th>25%</th>\n",
       "      <td>1161.493000</td>\n",
       "      <td>3191.927000</td>\n",
       "    </tr>\n",
       "    <tr>\n",
       "      <th>50%</th>\n",
       "      <td>5661.171000</td>\n",
       "      <td>5112.014000</td>\n",
       "    </tr>\n",
       "    <tr>\n",
       "      <th>75%</th>\n",
       "      <td>9922.934000</td>\n",
       "      <td>8440.646500</td>\n",
       "    </tr>\n",
       "    <tr>\n",
       "      <th>max</th>\n",
       "      <td>25564.670000</td>\n",
       "      <td>26817.600000</td>\n",
       "    </tr>\n",
       "  </tbody>\n",
       "</table>\n",
       "</div>"
      ],
      "text/plain": [
       "            Control       Treated\n",
       "count     61.000000     11.000000\n",
       "mean    7103.843464   7122.515564\n",
       "std     7042.244123   7320.482894\n",
       "min        0.000000    559.443200\n",
       "25%     1161.493000   3191.927000\n",
       "50%     5661.171000   5112.014000\n",
       "75%     9922.934000   8440.646500\n",
       "max    25564.670000  26817.600000"
      ]
     },
     "execution_count": 70,
     "metadata": {},
     "output_type": "execute_result"
    }
   ],
   "source": [
    "hispanic"
   ]
  },
  {
   "cell_type": "markdown",
   "metadata": {},
   "source": [
    "We notice that control groups outnumber treated groups for white and hispanic people, but not for black groups showing the opposite. The mean shows that on average the treated group salary is higher, but again we need to keep in mind that the mean is not a robust measure."
   ]
  },
  {
   "cell_type": "markdown",
   "metadata": {
    "collapsed": true
   },
   "source": [
    "Now we are going to compare the distributions, taking into consideration each \"earning\" occurrence with respect to the relative dataset"
   ]
  },
  {
   "cell_type": "markdown",
   "metadata": {},
   "source": [
    "<h3> White"
   ]
  },
  {
   "cell_type": "markdown",
   "metadata": {},
   "source": [
    "First we show separately the Control and Treated distributions, second in a stacked way and thirdly with superimposition and transparency."
   ]
  },
  {
   "cell_type": "code",
   "execution_count": 71,
   "metadata": {},
   "outputs": [
    {
     "data": {
      "text/plain": [
       "<matplotlib.axes._subplots.AxesSubplot at 0x11b8eaf98>"
      ]
     },
     "execution_count": 71,
     "metadata": {},
     "output_type": "execute_result"
    },
    {
     "data": {
      "image/png": "[encoded data removed]",
      "text/plain": [
       "<matplotlib.figure.Figure at 0x11b2b7860>"
      ]
     },
     "metadata": {},
     "output_type": "display_data"
    }
   ],
   "source": [
    "white_control.re78.plot.hist(bins=20)"
   ]
  },
  {
   "cell_type": "code",
   "execution_count": 72,
   "metadata": {},
   "outputs": [
    {
     "data": {
      "text/plain": [
       "<matplotlib.axes._subplots.AxesSubplot at 0x11bd27588>"
      ]
     },
     "execution_count": 72,
     "metadata": {},
     "output_type": "execute_result"
    },
    {
     "data": {
      "image/png": "[encoded data removed]",
      "text/plain": [
       "<matplotlib.figure.Figure at 0x11bc9f550>"
      ]
     },
     "metadata": {},
     "output_type": "display_data"
    }
   ],
   "source": [
    "white_treated.re78.plot.hist(bins=20)"
   ]
  },
  {
   "cell_type": "code",
   "execution_count": 73,
   "metadata": {},
   "outputs": [
    {
     "data": {
      "text/plain": [
       "<matplotlib.text.Text at 0x11be97390>"
      ]
     },
     "execution_count": 73,
     "metadata": {},
     "output_type": "execute_result"
    },
    {
     "data": {
      "image/png": "[encoded data removed]",
      "text/plain": [
       "<matplotlib.figure.Figure at 0x11bd26828>"
      ]
     },
     "metadata": {},
     "output_type": "display_data"
    }
   ],
   "source": [
    "group_white = pd.DataFrame({'treated': white_treated.re78, 'control': white_control.re78}, columns = ['treated', 'control'])\n",
    "group_white.plot.hist(stacked=True, bins=30, normed=\"true\")\n",
    "plt.title(r'White Treat and Control groups')\n",
    "# "
   ]
  },
  {
   "cell_type": "code",
   "execution_count": 74,
   "metadata": {},
   "outputs": [
    {
     "data": {
      "text/plain": [
       "<matplotlib.text.Text at 0x11b85c390>"
      ]
     },
     "execution_count": 74,
     "metadata": {},
     "output_type": "execute_result"
    },
    {
     "data": {
      "image/png": "[encoded data removed]",
      "text/plain": [
       "<matplotlib.figure.Figure at 0x11befecf8>"
      ]
     },
     "metadata": {},
     "output_type": "display_data"
    }
   ],
   "source": [
    "group_white = pd.DataFrame({'treated': white_treated.re78, 'control': white_control.re78}, columns = ['treated', 'control'])\n",
    "fig = plt.figure(figsize=(12,8))\n",
    "ax = fig.gca()\n",
    "group_white.plot.hist(stacked = False, ax = ax,  bins=25, normed=\"true\", alpha=0.5, color=['r', 'b'])\n",
    "plt.title(r'White Treat and Control groups')"
   ]
  },
  {
   "cell_type": "markdown",
   "metadata": {},
   "source": [
    "Put in proportion, the treated white group seems to have more people with a higher salary, but stil there are more outliers with higher earnings in the control group.\n",
    "Now we do the same for Black and Hispanic"
   ]
  },
  {
   "cell_type": "markdown",
   "metadata": {},
   "source": [
    "<h3> Black"
   ]
  },
  {
   "cell_type": "code",
   "execution_count": 75,
   "metadata": {},
   "outputs": [
    {
     "data": {
      "text/html": [
       "<div>\n",
       "<style>\n",
       "    .dataframe thead tr:only-child th {\n",
       "        text-align: right;\n",
       "    }\n",
       "\n",
       "    .dataframe thead th {\n",
       "        text-align: left;\n",
       "    }\n",
       "\n",
       "    .dataframe tbody tr th {\n",
       "        vertical-align: top;\n",
       "    }\n",
       "</style>\n",
       "<table border=\"1\" class=\"dataframe\">\n",
       "  <thead>\n",
       "    <tr style=\"text-align: right;\">\n",
       "      <th></th>\n",
       "      <th>Control</th>\n",
       "      <th>Treated</th>\n",
       "    </tr>\n",
       "  </thead>\n",
       "  <tbody>\n",
       "    <tr>\n",
       "      <th>count</th>\n",
       "      <td>87.000000</td>\n",
       "      <td>156.000000</td>\n",
       "    </tr>\n",
       "    <tr>\n",
       "      <th>mean</th>\n",
       "      <td>4853.431497</td>\n",
       "      <td>6136.320647</td>\n",
       "    </tr>\n",
       "    <tr>\n",
       "      <th>std</th>\n",
       "      <td>6201.725283</td>\n",
       "      <td>8143.465973</td>\n",
       "    </tr>\n",
       "    <tr>\n",
       "      <th>min</th>\n",
       "      <td>0.000000</td>\n",
       "      <td>0.000000</td>\n",
       "    </tr>\n",
       "    <tr>\n",
       "      <th>25%</th>\n",
       "      <td>0.000000</td>\n",
       "      <td>0.000000</td>\n",
       "    </tr>\n",
       "    <tr>\n",
       "      <th>50%</th>\n",
       "      <td>1613.677000</td>\n",
       "      <td>3879.584000</td>\n",
       "    </tr>\n",
       "    <tr>\n",
       "      <th>75%</th>\n",
       "      <td>8044.004500</td>\n",
       "      <td>9417.903000</td>\n",
       "    </tr>\n",
       "    <tr>\n",
       "      <th>max</th>\n",
       "      <td>20243.380000</td>\n",
       "      <td>60307.930000</td>\n",
       "    </tr>\n",
       "  </tbody>\n",
       "</table>\n",
       "</div>"
      ],
      "text/plain": [
       "            Control       Treated\n",
       "count     87.000000    156.000000\n",
       "mean    4853.431497   6136.320647\n",
       "std     6201.725283   8143.465973\n",
       "min        0.000000      0.000000\n",
       "25%        0.000000      0.000000\n",
       "50%     1613.677000   3879.584000\n",
       "75%     8044.004500   9417.903000\n",
       "max    20243.380000  60307.930000"
      ]
     },
     "execution_count": 75,
     "metadata": {},
     "output_type": "execute_result"
    }
   ],
   "source": [
    "black"
   ]
  },
  {
   "cell_type": "code",
   "execution_count": 76,
   "metadata": {},
   "outputs": [
    {
     "data": {
      "text/plain": [
       "<matplotlib.text.Text at 0x11bf89128>"
      ]
     },
     "execution_count": 76,
     "metadata": {},
     "output_type": "execute_result"
    },
    {
     "data": {
      "image/png": "[encoded data removed]",
      "text/plain": [
       "<matplotlib.figure.Figure at 0x11b38e160>"
      ]
     },
     "metadata": {},
     "output_type": "display_data"
    }
   ],
   "source": [
    "group_black = pd.DataFrame({'treated': black_treated.re78, 'control': black_control.re78}, columns = ['treated', 'control'])\n",
    "group_black.plot.hist(stacked=True, bins=30, normed=\"true\")\n",
    "plt.title(r'Black Treat and Control groups')"
   ]
  },
  {
   "cell_type": "code",
   "execution_count": 77,
   "metadata": {},
   "outputs": [
    {
     "data": {
      "text/plain": [
       "<matplotlib.text.Text at 0x11c145710>"
      ]
     },
     "execution_count": 77,
     "metadata": {},
     "output_type": "execute_result"
    },
    {
     "data": {
      "image/png": "[encoded data removed]",
      "text/plain": [
       "<matplotlib.figure.Figure at 0x11bfddd30>"
      ]
     },
     "metadata": {},
     "output_type": "display_data"
    }
   ],
   "source": [
    "group_black = pd.DataFrame({'treated': black_treated.re78, 'control': black_control.re78}, columns = ['treated', 'control'])\n",
    "fig = plt.figure(figsize=(12,8))\n",
    "ax = fig.gca()\n",
    "group_black.plot.hist(stacked = False, ax = ax,  bins=25, normed=\"true\", alpha=0.5, color=['r', 'b'])\n",
    "plt.title(r'Black Treat and Control groups')"
   ]
  },
  {
   "cell_type": "code",
   "execution_count": 78,
   "metadata": {},
   "outputs": [
    {
     "data": {
      "text/html": [
       "<div>\n",
       "<style>\n",
       "    .dataframe thead tr:only-child th {\n",
       "        text-align: right;\n",
       "    }\n",
       "\n",
       "    .dataframe thead th {\n",
       "        text-align: left;\n",
       "    }\n",
       "\n",
       "    .dataframe tbody tr th {\n",
       "        vertical-align: top;\n",
       "    }\n",
       "</style>\n",
       "<table border=\"1\" class=\"dataframe\">\n",
       "  <thead>\n",
       "    <tr style=\"text-align: right;\">\n",
       "      <th></th>\n",
       "      <th>Control</th>\n",
       "      <th>Treated</th>\n",
       "    </tr>\n",
       "  </thead>\n",
       "  <tbody>\n",
       "    <tr>\n",
       "      <th>count</th>\n",
       "      <td>61.000000</td>\n",
       "      <td>11.000000</td>\n",
       "    </tr>\n",
       "    <tr>\n",
       "      <th>mean</th>\n",
       "      <td>7103.843464</td>\n",
       "      <td>7122.515564</td>\n",
       "    </tr>\n",
       "    <tr>\n",
       "      <th>std</th>\n",
       "      <td>7042.244123</td>\n",
       "      <td>7320.482894</td>\n",
       "    </tr>\n",
       "    <tr>\n",
       "      <th>min</th>\n",
       "      <td>0.000000</td>\n",
       "      <td>559.443200</td>\n",
       "    </tr>\n",
       "    <tr>\n",
       "      <th>25%</th>\n",
       "      <td>1161.493000</td>\n",
       "      <td>3191.927000</td>\n",
       "    </tr>\n",
       "    <tr>\n",
       "      <th>50%</th>\n",
       "      <td>5661.171000</td>\n",
       "      <td>5112.014000</td>\n",
       "    </tr>\n",
       "    <tr>\n",
       "      <th>75%</th>\n",
       "      <td>9922.934000</td>\n",
       "      <td>8440.646500</td>\n",
       "    </tr>\n",
       "    <tr>\n",
       "      <th>max</th>\n",
       "      <td>25564.670000</td>\n",
       "      <td>26817.600000</td>\n",
       "    </tr>\n",
       "  </tbody>\n",
       "</table>\n",
       "</div>"
      ],
      "text/plain": [
       "            Control       Treated\n",
       "count     61.000000     11.000000\n",
       "mean    7103.843464   7122.515564\n",
       "std     7042.244123   7320.482894\n",
       "min        0.000000    559.443200\n",
       "25%     1161.493000   3191.927000\n",
       "50%     5661.171000   5112.014000\n",
       "75%     9922.934000   8440.646500\n",
       "max    25564.670000  26817.600000"
      ]
     },
     "execution_count": 78,
     "metadata": {},
     "output_type": "execute_result"
    }
   ],
   "source": [
    "#Hispanic\n",
    "hispanic"
   ]
  },
  {
   "cell_type": "code",
   "execution_count": 79,
   "metadata": {
    "scrolled": false
   },
   "outputs": [
    {
     "data": {
      "text/plain": [
       "<matplotlib.text.Text at 0x11c33dda0>"
      ]
     },
     "execution_count": 79,
     "metadata": {},
     "output_type": "execute_result"
    },
    {
     "data": {
      "image/png": "[encoded data removed]",
      "text/plain": [
       "<matplotlib.figure.Figure at 0x11bfd73c8>"
      ]
     },
     "metadata": {},
     "output_type": "display_data"
    }
   ],
   "source": [
    "group_hispanic = pd.DataFrame({'treated': hispanic_treated.re78, 'control': hispanic_control.re78}, columns = ['treated', 'control'])\n",
    "group_hispanic.plot.hist(stacked=False, bins=30, normed=\"true\")\n",
    "plt.title(r'Hispanic Treat and Control groups')"
   ]
  },
  {
   "cell_type": "code",
   "execution_count": 80,
   "metadata": {},
   "outputs": [
    {
     "data": {
      "text/plain": [
       "<matplotlib.text.Text at 0x11c6c62b0>"
      ]
     },
     "execution_count": 80,
     "metadata": {},
     "output_type": "execute_result"
    },
    {
     "data": {
      "image/png": "[encoded data removed]",
      "text/plain": [
       "<matplotlib.figure.Figure at 0x11c4f1978>"
      ]
     },
     "metadata": {},
     "output_type": "display_data"
    }
   ],
   "source": [
    "group_hispanic = pd.DataFrame({'treated': hispanic_treated.re78, 'control': hispanic_control.re78}, columns = ['treated', 'control'])\n",
    "fig = plt.figure(figsize=(12,8))\n",
    "ax = fig.gca()\n",
    "group_hispanic.plot.hist(stacked = False, ax = ax,  bins=25, normed=\"true\", alpha=0.5, color=['r', 'b'])\n",
    "plt.title(r'Hispanic Treat and Control groups')"
   ]
  },
  {
   "cell_type": "markdown",
   "metadata": {},
   "source": [
    "<h3> Married/Non married"
   ]
  },
  {
   "cell_type": "code",
   "execution_count": 81,
   "metadata": {
    "collapsed": true
   },
   "outputs": [],
   "source": [
    "married_treated_group = treated_group[treated_group.married == 1]\n",
    "single_treated_group = treated_group[treated_group.married == 0]\n",
    "\n",
    "married_control_group = control_group[control_group.married == 1]\n",
    "single_control_group = control_group[control_group.married == 0]"
   ]
  },
  {
   "cell_type": "code",
   "execution_count": 82,
   "metadata": {},
   "outputs": [
    {
     "data": {
      "text/plain": [
       "<matplotlib.text.Text at 0x11ca59080>"
      ]
     },
     "execution_count": 82,
     "metadata": {},
     "output_type": "execute_result"
    },
    {
     "data": {
      "image/png": "[encoded data removed]",
      "text/plain": [
       "<matplotlib.figure.Figure at 0x11a989358>"
      ]
     },
     "metadata": {},
     "output_type": "display_data"
    },
    {
     "data": {
      "image/png": "[encoded data removed]",
      "text/plain": [
       "<matplotlib.figure.Figure at 0x11a8ab748>"
      ]
     },
     "metadata": {},
     "output_type": "display_data"
    }
   ],
   "source": [
    "married_group = pd.DataFrame({'treated': married_treated_group.re78, 'control': married_control_group.re78}, columns = ['treated', 'control'])\n",
    "single_group = pd.DataFrame({'treated': single_treated_group.re78, 'control': single_control_group.re78}, columns = ['treated', 'control'])\n",
    "fig = plt.figure(figsize=(10,6))\n",
    "ax = fig.gca()\n",
    "married_group.plot.hist(stacked = False, ax = ax,  bins=25, normed=\"true\", alpha=0.5, color=['r', 'b'])\n",
    "plt.title(r'Married Treat and Control groups')\n",
    "\n",
    "fig = plt.figure(figsize=(10,6))\n",
    "ax = fig.gca()\n",
    "single_group.plot.hist(stacked = False, ax = ax,  bins=25, normed=\"true\", alpha=0.5)\n",
    "plt.title(r'Single Treat and Control groups')\n",
    "\n"
   ]
  },
  {
   "cell_type": "code",
   "execution_count": 83,
   "metadata": {},
   "outputs": [
    {
     "data": {
      "text/html": [
       "<div>\n",
       "<style>\n",
       "    .dataframe thead tr:only-child th {\n",
       "        text-align: right;\n",
       "    }\n",
       "\n",
       "    .dataframe thead th {\n",
       "        text-align: left;\n",
       "    }\n",
       "\n",
       "    .dataframe tbody tr th {\n",
       "        vertical-align: top;\n",
       "    }\n",
       "</style>\n",
       "<table border=\"1\" class=\"dataframe\">\n",
       "  <thead>\n",
       "    <tr style=\"text-align: right;\">\n",
       "      <th></th>\n",
       "      <th>treated</th>\n",
       "      <th>control</th>\n",
       "    </tr>\n",
       "  </thead>\n",
       "  <tbody>\n",
       "    <tr>\n",
       "      <th>count</th>\n",
       "      <td>35.000000</td>\n",
       "      <td>220.000000</td>\n",
       "    </tr>\n",
       "    <tr>\n",
       "      <th>mean</th>\n",
       "      <td>7759.768909</td>\n",
       "      <td>8305.777044</td>\n",
       "    </tr>\n",
       "    <tr>\n",
       "      <th>std</th>\n",
       "      <td>8045.997583</td>\n",
       "      <td>8174.091461</td>\n",
       "    </tr>\n",
       "    <tr>\n",
       "      <th>min</th>\n",
       "      <td>0.000000</td>\n",
       "      <td>0.000000</td>\n",
       "    </tr>\n",
       "    <tr>\n",
       "      <th>25%</th>\n",
       "      <td>1517.392000</td>\n",
       "      <td>234.589100</td>\n",
       "    </tr>\n",
       "    <tr>\n",
       "      <th>50%</th>\n",
       "      <td>5911.551000</td>\n",
       "      <td>6337.969500</td>\n",
       "    </tr>\n",
       "    <tr>\n",
       "      <th>75%</th>\n",
       "      <td>11825.665000</td>\n",
       "      <td>14302.180000</td>\n",
       "    </tr>\n",
       "    <tr>\n",
       "      <th>max</th>\n",
       "      <td>36646.950000</td>\n",
       "      <td>25564.670000</td>\n",
       "    </tr>\n",
       "  </tbody>\n",
       "</table>\n",
       "</div>"
      ],
      "text/plain": [
       "            treated       control\n",
       "count     35.000000    220.000000\n",
       "mean    7759.768909   8305.777044\n",
       "std     8045.997583   8174.091461\n",
       "min        0.000000      0.000000\n",
       "25%     1517.392000    234.589100\n",
       "50%     5911.551000   6337.969500\n",
       "75%    11825.665000  14302.180000\n",
       "max    36646.950000  25564.670000"
      ]
     },
     "execution_count": 83,
     "metadata": {},
     "output_type": "execute_result"
    }
   ],
   "source": [
    "# Description of entries\n",
    "married_group.describe()"
   ]
  },
  {
   "cell_type": "markdown",
   "metadata": {},
   "source": [
    "<h3> Degree/Non degree"
   ]
  },
  {
   "cell_type": "code",
   "execution_count": 84,
   "metadata": {
    "collapsed": true
   },
   "outputs": [],
   "source": [
    "nodegree_treated = treated_group[treated_group.nodegree == 1]\n",
    "degree_treated   = treated_group[treated_group.nodegree == 0]\n",
    "\n",
    "nodegree_control = control_group[control_group.nodegree == 1]\n",
    "degree_control   = control_group[control_group.nodegree == 1]"
   ]
  },
  {
   "cell_type": "code",
   "execution_count": 85,
   "metadata": {
    "collapsed": true
   },
   "outputs": [],
   "source": [
    "married_treated_group = treated_group[treated_group.married == 1]\n",
    "single_treated_group = treated_group[treated_group.married == 0]\n",
    "\n",
    "married_control_group = control_group[control_group.married == 1]\n",
    "single_control_group = control_group[control_group.married == 0]"
   ]
  },
  {
   "cell_type": "code",
   "execution_count": 86,
   "metadata": {},
   "outputs": [
    {
     "data": {
      "text/plain": [
       "<matplotlib.text.Text at 0x11cd95780>"
      ]
     },
     "execution_count": 86,
     "metadata": {},
     "output_type": "execute_result"
    },
    {
     "data": {
      "image/png": "[encoded data removed]",
      "text/plain": [
       "<matplotlib.figure.Figure at 0x11a509ac8>"
      ]
     },
     "metadata": {},
     "output_type": "display_data"
    },
    {
     "data": {
      "image/png": "[encoded data removed]",
      "text/plain": [
       "<matplotlib.figure.Figure at 0x11cb0f7b8>"
      ]
     },
     "metadata": {},
     "output_type": "display_data"
    }
   ],
   "source": [
    "nodegree_group = pd.DataFrame({'treated': nodegree_treated.re78, 'control': nodegree_control.re78}, columns = ['treated', 'control'])\n",
    "degree_group = pd.DataFrame({'treated': degree_treated.re78, 'control': degree_control.re78}, columns = ['treated', 'control'])\n",
    "fig = plt.figure(figsize=(10,6))\n",
    "ax = fig.gca()\n",
    "nodegree_group.plot.hist(stacked = False, ax = ax,  bins=25, normed=\"true\", alpha=0.5, color=['r', 'b'])\n",
    "plt.title(r'Nodegree Treat and Control groups')\n",
    "\n",
    "fig = plt.figure(figsize=(10,6))\n",
    "ax = fig.gca()\n",
    "degree_group.plot.hist(stacked = False, ax = ax,  bins=25, normed=\"true\", alpha=0.5)\n",
    "plt.title(r'Degree Treat and Control groups')"
   ]
  },
  {
   "cell_type": "markdown",
   "metadata": {},
   "source": [
    "<h3> Education Years Intervals"
   ]
  },
  {
   "cell_type": "code",
   "execution_count": 87,
   "metadata": {},
   "outputs": [
    {
     "data": {
      "text/html": [
       "<div>\n",
       "<style>\n",
       "    .dataframe thead tr:only-child th {\n",
       "        text-align: right;\n",
       "    }\n",
       "\n",
       "    .dataframe thead th {\n",
       "        text-align: left;\n",
       "    }\n",
       "\n",
       "    .dataframe tbody tr th {\n",
       "        vertical-align: top;\n",
       "    }\n",
       "</style>\n",
       "<table border=\"1\" class=\"dataframe\">\n",
       "  <thead>\n",
       "    <tr style=\"text-align: right;\">\n",
       "      <th></th>\n",
       "      <th>id</th>\n",
       "      <th>treat</th>\n",
       "      <th>age</th>\n",
       "      <th>educ</th>\n",
       "      <th>black</th>\n",
       "      <th>hispan</th>\n",
       "      <th>married</th>\n",
       "      <th>nodegree</th>\n",
       "      <th>re74</th>\n",
       "      <th>re75</th>\n",
       "      <th>re78</th>\n",
       "    </tr>\n",
       "  </thead>\n",
       "  <tbody>\n",
       "    <tr>\n",
       "      <th>0</th>\n",
       "      <td>NSW1</td>\n",
       "      <td>1</td>\n",
       "      <td>37</td>\n",
       "      <td>11</td>\n",
       "      <td>1</td>\n",
       "      <td>0</td>\n",
       "      <td>1</td>\n",
       "      <td>1</td>\n",
       "      <td>0.0</td>\n",
       "      <td>0.0</td>\n",
       "      <td>9930.0460</td>\n",
       "    </tr>\n",
       "    <tr>\n",
       "      <th>1</th>\n",
       "      <td>NSW2</td>\n",
       "      <td>1</td>\n",
       "      <td>22</td>\n",
       "      <td>9</td>\n",
       "      <td>0</td>\n",
       "      <td>1</td>\n",
       "      <td>0</td>\n",
       "      <td>1</td>\n",
       "      <td>0.0</td>\n",
       "      <td>0.0</td>\n",
       "      <td>3595.8940</td>\n",
       "    </tr>\n",
       "    <tr>\n",
       "      <th>2</th>\n",
       "      <td>NSW3</td>\n",
       "      <td>1</td>\n",
       "      <td>30</td>\n",
       "      <td>12</td>\n",
       "      <td>1</td>\n",
       "      <td>0</td>\n",
       "      <td>0</td>\n",
       "      <td>0</td>\n",
       "      <td>0.0</td>\n",
       "      <td>0.0</td>\n",
       "      <td>24909.4500</td>\n",
       "    </tr>\n",
       "    <tr>\n",
       "      <th>3</th>\n",
       "      <td>NSW4</td>\n",
       "      <td>1</td>\n",
       "      <td>27</td>\n",
       "      <td>11</td>\n",
       "      <td>1</td>\n",
       "      <td>0</td>\n",
       "      <td>0</td>\n",
       "      <td>1</td>\n",
       "      <td>0.0</td>\n",
       "      <td>0.0</td>\n",
       "      <td>7506.1460</td>\n",
       "    </tr>\n",
       "    <tr>\n",
       "      <th>4</th>\n",
       "      <td>NSW5</td>\n",
       "      <td>1</td>\n",
       "      <td>33</td>\n",
       "      <td>8</td>\n",
       "      <td>1</td>\n",
       "      <td>0</td>\n",
       "      <td>0</td>\n",
       "      <td>1</td>\n",
       "      <td>0.0</td>\n",
       "      <td>0.0</td>\n",
       "      <td>289.7899</td>\n",
       "    </tr>\n",
       "  </tbody>\n",
       "</table>\n",
       "</div>"
      ],
      "text/plain": [
       "     id  treat  age  educ  black  hispan  married  nodegree  re74  re75  \\\n",
       "0  NSW1      1   37    11      1       0        1         1   0.0   0.0   \n",
       "1  NSW2      1   22     9      0       1        0         1   0.0   0.0   \n",
       "2  NSW3      1   30    12      1       0        0         0   0.0   0.0   \n",
       "3  NSW4      1   27    11      1       0        0         1   0.0   0.0   \n",
       "4  NSW5      1   33     8      1       0        0         1   0.0   0.0   \n",
       "\n",
       "         re78  \n",
       "0   9930.0460  \n",
       "1   3595.8940  \n",
       "2  24909.4500  \n",
       "3   7506.1460  \n",
       "4    289.7899  "
      ]
     },
     "execution_count": 87,
     "metadata": {},
     "output_type": "execute_result"
    }
   ],
   "source": [
    "treated_group.head()"
   ]
  },
  {
   "cell_type": "markdown",
   "metadata": {},
   "source": [
    "In order to create plot, classify the treated and control groups by years spent on education and calculate the mean."
   ]
  },
  {
   "cell_type": "code",
   "execution_count": 88,
   "metadata": {
    "collapsed": true
   },
   "outputs": [],
   "source": [
    "treated_educ_less4 = treated_group.loc[treated_group[\"educ\"]<4]\n",
    "treated_educ_less4_mean = treated_educ_less4.mean()\n",
    "treated_educ_less4_mean1 = treated_educ_less4_mean[\"re78\"]\n",
    "\n",
    "control_educ_less4 = control_group.loc[control_group[\"educ\"]<4]\n",
    "control_educ_less4_mean = control_educ_less4.mean()\n",
    "control_educ_less4_mean1 = control_educ_less4_mean[\"re78\"]\n",
    "\n",
    "treated_educ_more4_less8 = treated_group[(treated_group['educ'] >= 4) & (treated_group['educ'] < 8)]\n",
    "treated_educ_more4_less8_mean = treated_educ_more4_less8.mean()\n",
    "treated_educ_more4_less8_mean1 = treated_educ_more4_less8_mean[\"re78\"]\n",
    "\n",
    "control_educ_more4_less8 = control_group[(control_group['educ'] >= 4) & (control_group['educ'] < 8)]\n",
    "control_educ_more4_less8_mean = control_educ_more4_less8.mean()\n",
    "control_educ_more4_less8_mean1 = control_educ_more4_less8_mean[\"re78\"]\n",
    "\n",
    "treated_educ_more8_less12 = treated_group[(treated_group['educ'] >= 8) & (treated_group['educ'] <12)]\n",
    "treated_educ_more8_less12_mean = treated_educ_more8_less12.mean()\n",
    "treated_educ_more8_less12_mean1 = treated_educ_more8_less12_mean[\"re78\"]\n",
    "\n",
    "control_educ_more8_less12 = control_group[(control_group['educ'] >= 8) & (control_group['educ'] < 12)]\n",
    "control_educ_more8_less12_mean = control_educ_more8_less12.mean()\n",
    "control_educ_more8_less12_mean1 = control_educ_more8_less12_mean[\"re78\"]\n",
    "\n",
    "treated_educ_more12_less16 = treated_group[(treated_group['educ'] >=12 ) & (treated_group['educ'] < 16)]\n",
    "treated_educ_more12_less16_mean = treated_educ_more12_less16.mean()\n",
    "treated_educ_more12_less16_mean1 = treated_educ_more12_less16_mean[\"re78\"]\n",
    "\n",
    "control_educ_more12_less16 = control_group[(control_group['educ'] >= 12) & (control_group['educ'] < 16)]\n",
    "control_educ_more12_less16_mean = control_educ_more12_less16.mean()\n",
    "control_educ_more12_less16_mean1 = control_educ_more12_less16_mean[\"re78\"]\n",
    "\n",
    "treated_educ_more16 = treated_group.loc[treated_group[\"educ\"]>= 16]\n",
    "treated_educ_more16_mean = treated_educ_more16.mean()\n",
    "treated_educ_more16_mean1 = treated_educ_more16_mean[\"re78\"]\n",
    "\n",
    "control_educ_more16 = control_group.loc[control_group[\"educ\"]>= 16]\n",
    "control_educ_more16_mean = control_educ_more16.mean()\n",
    "control_educ_more16_mean1 = control_educ_more16_mean[\"re78\"]"
   ]
  },
  {
   "cell_type": "markdown",
   "metadata": {},
   "source": [
    "Create the DataFrame by the treated group."
   ]
  },
  {
   "cell_type": "code",
   "execution_count": 89,
   "metadata": {
    "collapsed": true
   },
   "outputs": [],
   "source": [
    "data = pd.DataFrame([{'educ mean treated values': treated_educ_less4_mean1}])\n",
    "merged_mean_values = data\n",
    "data1 = pd.DataFrame([{'educ mean treated values': treated_educ_more4_less8_mean1}])\n",
    "merged_mean_values = merged_mean_values.append(data1)\n",
    "data2 = pd.DataFrame([{'educ mean treated values': treated_educ_more8_less12_mean1}])\n",
    "merged_mean_values = merged_mean_values.append(data2)\n",
    "data3 = pd.DataFrame([{'educ mean treated values': treated_educ_more12_less16_mean1}])\n",
    "merged_mean_values = merged_mean_values.append(data3)\n",
    "data4 = pd.DataFrame([{'educ mean treated values': treated_educ_more16_mean1}])\n",
    "merged_mean_values1 = merged_mean_values.append(data4)"
   ]
  },
  {
   "cell_type": "markdown",
   "metadata": {},
   "source": [
    "Create the DataFrame by the control group."
   ]
  },
  {
   "cell_type": "code",
   "execution_count": 90,
   "metadata": {
    "collapsed": true
   },
   "outputs": [],
   "source": [
    "data = pd.DataFrame([{'educ mean control values': control_educ_less4_mean1}])\n",
    "merged_mean_values = data\n",
    "data1 = pd.DataFrame([{'educ mean control values': control_educ_more4_less8_mean1}])\n",
    "merged_mean_values = merged_mean_values.append(data1)\n",
    "data2 = pd.DataFrame([{'educ mean control values': control_educ_more8_less12_mean1}])\n",
    "merged_mean_values = merged_mean_values.append(data2)\n",
    "data3 = pd.DataFrame([{'educ mean control values': control_educ_more12_less16_mean1}])\n",
    "merged_mean_values = merged_mean_values.append(data3)\n",
    "data4 = pd.DataFrame([{'educ mean control values': control_educ_more16_mean1}])\n",
    "merged_mean_values2 = merged_mean_values.append(data4)"
   ]
  },
  {
   "cell_type": "markdown",
   "metadata": {},
   "source": [
    "Merged the two Dataframes"
   ]
  },
  {
   "cell_type": "code",
   "execution_count": 91,
   "metadata": {
    "collapsed": true
   },
   "outputs": [],
   "source": [
    "merged_mean_values1['educ mean control values'] = merged_mean_values2\n",
    "age_groups = pd.DataFrame({'age groups': [['0-4'],['4-8'],['8-12'],['12-16'],['16+']]})\n",
    "merged_mean_values1 = merged_mean_values1.reset_index(drop=True)\n",
    "merged_mean_values1['age groups'] = age_groups\n",
    "merged_mean_values1 = merged_mean_values1.set_index('age groups')"
   ]
  },
  {
   "cell_type": "markdown",
   "metadata": {},
   "source": [
    "Create the plot by the Education years"
   ]
  },
  {
   "cell_type": "code",
   "execution_count": 92,
   "metadata": {},
   "outputs": [
    {
     "data": {
      "text/plain": [
       "<matplotlib.text.Text at 0x11d12d160>"
      ]
     },
     "execution_count": 92,
     "metadata": {},
     "output_type": "execute_result"
    },
    {
     "data": {
      "image/png": "[encoded data removed]",
      "text/plain": [
       "<matplotlib.figure.Figure at 0x11cdd29b0>"
      ]
     },
     "metadata": {},
     "output_type": "display_data"
    }
   ],
   "source": [
    "#merged_mean_values1.plot.bar()\n",
    "fig = plt.figure(figsize=(10,5))\n",
    "ax = fig.gca()\n",
    "merged_mean_values1.plot.bar(ax = ax)\n",
    "plt.title(r'Education Years Intervals')"
   ]
  },
  {
   "cell_type": "markdown",
   "metadata": {},
   "source": [
    "<h3> Age Intervals"
   ]
  },
  {
   "cell_type": "markdown",
   "metadata": {},
   "source": [
    "In order to create plot, classify the treated and control groups by age and calculate the mean."
   ]
  },
  {
   "cell_type": "code",
   "execution_count": 93,
   "metadata": {
    "collapsed": true
   },
   "outputs": [],
   "source": [
    "treated_age_less18 = treated_group.loc[treated_group[\"age\"]<18]\n",
    "treated_age_less18_mean = treated_age_less18 .mean()\n",
    "treated_age_less18_mean1 = treated_age_less18_mean[\"re78\"]\n",
    "\n",
    "control_age_less18 = control_group.loc[control_group[\"age\"]<18]\n",
    "control_age_less18_mean = control_age_less18.mean()\n",
    "control_age_less18_mean1 = control_age_less18_mean[\"re78\"]\n",
    "\n",
    "treated_age_more18_less25 = treated_group[(treated_group['age'] >= 18) & (treated_group['age'] < 25)]\n",
    "treated_age_more18_less25_mean = treated_age_more18_less25.mean()\n",
    "treated_age_more18_less25_mean1 = treated_age_more18_less25_mean[\"re78\"]\n",
    "\n",
    "control_age_more18_less25 = control_group[(control_group['age'] >= 18) & (control_group['age'] < 25)]\n",
    "control_age_more18_less25_mean = control_age_more18_less25.mean()\n",
    "control_age_more18_less25_mean1 = control_age_more18_less25_mean[\"re78\"]\n",
    "\n",
    "treated_age_more25_less35 = treated_group[(treated_group['age'] >= 25) & (treated_group['age'] < 35)]\n",
    "treated_age_more25_less35_mean = treated_age_more25_less35.mean()\n",
    "treated_age_more25_less35_mean1 = treated_age_more25_less35_mean[\"re78\"]\n",
    "\n",
    "control_age_more25_less35 = control_group[(control_group['age'] >= 25) & (control_group['age'] < 35)]\n",
    "control_age_more25_less35_mean = control_age_more25_less35.mean()\n",
    "control_age_more25_less35_mean1 = control_age_more25_less35_mean[\"re78\"]\n",
    "\n",
    "treated_age_more35_less45 = treated_group[(treated_group['age'] >=35 ) & (treated_group['age'] < 45)]\n",
    "treated_age_more35_less45_mean = treated_age_more35_less45.mean()\n",
    "treated_age_more35_less45_mean1 = treated_age_more35_less45_mean[\"re78\"]\n",
    "\n",
    "control_age_more35_less45 = control_group[(control_group['age'] >= 35) & (control_group['age'] < 45)]\n",
    "control_age_more35_less45_mean = control_age_more35_less45.mean()\n",
    "control_age_more35_less45_mean1 = control_age_more35_less45_mean[\"re78\"]\n",
    "\n",
    "treated_age_more45 = treated_group.loc[treated_group[\"age\"]>= 45]\n",
    "treated_age_more45_mean = treated_age_more45.mean()\n",
    "treated_age_more45_mean1 = treated_age_more45_mean[\"re78\"]\n",
    "\n",
    "control_age_more45 = control_group.loc[control_group[\"age\"]>= 45]\n",
    "control_age_more45_mean = control_age_more45.mean()\n",
    "control_age_more45_mean1 = control_age_more45_mean[\"re78\"]"
   ]
  },
  {
   "cell_type": "markdown",
   "metadata": {},
   "source": [
    "Create the DataFrame by the control group."
   ]
  },
  {
   "cell_type": "code",
   "execution_count": 94,
   "metadata": {
    "collapsed": true
   },
   "outputs": [],
   "source": [
    "data = pd.DataFrame([{'age mean control values': control_age_less18_mean1}])\n",
    "merged_mean_values = data\n",
    "data1 = pd.DataFrame([{'age mean control values': control_age_more18_less25_mean1}])\n",
    "merged_mean_values = merged_mean_values.append(data1)\n",
    "data2 = pd.DataFrame([{'age mean control values': control_age_more25_less35_mean1}])\n",
    "merged_mean_values = merged_mean_values.append(data2)\n",
    "data3 = pd.DataFrame([{'age mean control values': control_age_more35_less45_mean1}])\n",
    "merged_mean_values = merged_mean_values.append(data3)\n",
    "data4 = pd.DataFrame([{'age mean control values': control_age_more45_mean1}])\n",
    "merged_mean_values1 = merged_mean_values.append(data4)"
   ]
  },
  {
   "cell_type": "markdown",
   "metadata": {},
   "source": [
    "Create the DataFrame by the treated group."
   ]
  },
  {
   "cell_type": "code",
   "execution_count": 95,
   "metadata": {
    "collapsed": true
   },
   "outputs": [],
   "source": [
    "data = pd.DataFrame([{'age mean treated values': treated_age_less18_mean1}])\n",
    "merged_mean_values = data\n",
    "data1 = pd.DataFrame([{'age mean treated values': treated_age_more18_less25_mean1}])\n",
    "merged_mean_values = merged_mean_values.append(data1)\n",
    "data2 = pd.DataFrame([{'age mean treated values': treated_age_more25_less35_mean1}])\n",
    "merged_mean_values = merged_mean_values.append(data2)\n",
    "data3 = pd.DataFrame([{'age mean treated values': treated_age_more35_less45_mean1}])\n",
    "merged_mean_values = merged_mean_values.append(data3)\n",
    "data4 = pd.DataFrame([{'age mean treated values': treated_age_more45_mean1}])\n",
    "merged_mean_values2 = merged_mean_values.append(data4)"
   ]
  },
  {
   "cell_type": "markdown",
   "metadata": {},
   "source": [
    "Merged the two Dataframes"
   ]
  },
  {
   "cell_type": "code",
   "execution_count": 96,
   "metadata": {
    "collapsed": true
   },
   "outputs": [],
   "source": [
    "merged_mean_values1['educ mean control values'] = merged_mean_values2\n",
    "age_groups = pd.DataFrame({'age groups': [['0-4'],['4-8'],['8-12'],['12-16'],['16+']]})\n",
    "merged_mean_values1 = merged_mean_values1.reset_index(drop=True)\n",
    "merged_mean_values1['age groups'] = age_groups\n",
    "merged_mean_values1 = merged_mean_values1.set_index('age groups')"
   ]
  },
  {
   "cell_type": "code",
   "execution_count": 97,
   "metadata": {},
   "outputs": [
    {
     "data": {
      "image/png": "[encoded data removed]",
      "text/plain": [
       "<matplotlib.figure.Figure at 0x11cb977f0>"
      ]
     },
     "metadata": {},
     "output_type": "display_data"
    }
   ],
   "source": [
    "fig = plt.figure(figsize=(10,5))\n",
    "ax = fig.gca()\n",
    "merged_mean_values1.plot.bar(ax = ax)\n",
    "plt.title(r'Age Intervals');"
   ]
  },
  {
   "cell_type": "markdown",
   "metadata": {},
   "source": [
    "### 3. A propensity score model"
   ]
  },
  {
   "cell_type": "markdown",
   "metadata": {},
   "source": [
    "The propensity score is the conditional probability of treatment Z = 1 given the observed covariates x, e(x) = Pr(Z = 1| x). In our case, treatment assignment is represented with the feature \"treat\" and the observed covariates are the pre-treatment features."
   ]
  },
  {
   "cell_type": "code",
   "execution_count": 98,
   "metadata": {},
   "outputs": [
    {
     "data": {
      "text/html": [
       "<div>\n",
       "<style>\n",
       "    .dataframe thead tr:only-child th {\n",
       "        text-align: right;\n",
       "    }\n",
       "\n",
       "    .dataframe thead th {\n",
       "        text-align: left;\n",
       "    }\n",
       "\n",
       "    .dataframe tbody tr th {\n",
       "        vertical-align: top;\n",
       "    }\n",
       "</style>\n",
       "<table border=\"1\" class=\"dataframe\">\n",
       "  <thead>\n",
       "    <tr style=\"text-align: right;\">\n",
       "      <th></th>\n",
       "      <th>id</th>\n",
       "      <th>treat</th>\n",
       "      <th>age</th>\n",
       "      <th>educ</th>\n",
       "      <th>black</th>\n",
       "      <th>hispan</th>\n",
       "      <th>white</th>\n",
       "      <th>married</th>\n",
       "      <th>nodegree</th>\n",
       "      <th>re74</th>\n",
       "      <th>re75</th>\n",
       "      <th>re78</th>\n",
       "    </tr>\n",
       "  </thead>\n",
       "  <tbody>\n",
       "    <tr>\n",
       "      <th>0</th>\n",
       "      <td>NSW1</td>\n",
       "      <td>1</td>\n",
       "      <td>37</td>\n",
       "      <td>11</td>\n",
       "      <td>1</td>\n",
       "      <td>0</td>\n",
       "      <td>0</td>\n",
       "      <td>1</td>\n",
       "      <td>1</td>\n",
       "      <td>0.0</td>\n",
       "      <td>0.0</td>\n",
       "      <td>9930.046</td>\n",
       "    </tr>\n",
       "    <tr>\n",
       "      <th>1</th>\n",
       "      <td>NSW2</td>\n",
       "      <td>1</td>\n",
       "      <td>22</td>\n",
       "      <td>9</td>\n",
       "      <td>0</td>\n",
       "      <td>1</td>\n",
       "      <td>0</td>\n",
       "      <td>0</td>\n",
       "      <td>1</td>\n",
       "      <td>0.0</td>\n",
       "      <td>0.0</td>\n",
       "      <td>3595.894</td>\n",
       "    </tr>\n",
       "  </tbody>\n",
       "</table>\n",
       "</div>"
      ],
      "text/plain": [
       "     id  treat  age  educ  black  hispan  white  married  nodegree  re74  \\\n",
       "0  NSW1      1   37    11      1       0      0        1         1   0.0   \n",
       "1  NSW2      1   22     9      0       1      0        0         1   0.0   \n",
       "\n",
       "   re75      re78  \n",
       "0   0.0  9930.046  \n",
       "1   0.0  3595.894  "
      ]
     },
     "execution_count": 98,
     "metadata": {},
     "output_type": "execute_result"
    }
   ],
   "source": [
    "data = pd.read_csv('lalonde.csv')\n",
    "# add column white\n",
    "data['white'] = 0\n",
    "\n",
    "# moving the column \"white\" next to \"hispan\" for better representation\n",
    "cols = data.columns.tolist()\n",
    "cols = cols[:6] + cols[-1:] + cols[6:-1]\n",
    "data = data[cols]\n",
    "\n",
    "# set white = 1 when the person is not black neither hispan\n",
    "data.white[np.logical_and(data.black == 0, data.hispan == 0)] = 1\n",
    "\n",
    "data.head(2)"
   ]
  },
  {
   "cell_type": "markdown",
   "metadata": {},
   "source": [
    "We create the features and class vectors (X and y)"
   ]
  },
  {
   "cell_type": "code",
   "execution_count": 99,
   "metadata": {
    "collapsed": true
   },
   "outputs": [],
   "source": [
    "feature_cols = ['age', 'educ', 'black', 'hispan', 'white', 'married','nodegree','re74','re75']\n",
    "X = data[feature_cols]\n",
    "y = data.treat"
   ]
  },
  {
   "cell_type": "markdown",
   "metadata": {},
   "source": [
    "We use logistic regression to train the model"
   ]
  },
  {
   "cell_type": "code",
   "execution_count": 100,
   "metadata": {},
   "outputs": [
    {
     "data": {
      "text/plain": [
       "LogisticRegression(C=1.0, class_weight=None, dual=False, fit_intercept=True,\n",
       "          intercept_scaling=1, max_iter=100, multi_class='ovr', n_jobs=1,\n",
       "          penalty='l2', random_state=None, solver='liblinear', tol=0.0001,\n",
       "          verbose=0, warm_start=False)"
      ]
     },
     "execution_count": 100,
     "metadata": {},
     "output_type": "execute_result"
    }
   ],
   "source": [
    "# Logistic regression to estimate propensity scores for all points in the dataset\n",
    "logistic = linear_model.LogisticRegression() \n",
    "\n",
    "# To fit the logistic regression model and apply it to each data point to obtain propensity scores\n",
    "logistic.fit(X, y) "
   ]
  },
  {
   "cell_type": "markdown",
   "metadata": {},
   "source": [
    "The matrix 'pred' below shows the probability of each data point belonging to the treated (1st column) or control group (2nd column)."
   ]
  },
  {
   "cell_type": "code",
   "execution_count": 101,
   "metadata": {},
   "outputs": [
    {
     "data": {
      "text/plain": [
       "array([[ 0.48723672,  0.51276328],\n",
       "       [ 0.7061392 ,  0.2938608 ],\n",
       "       [ 0.35144998,  0.64855002],\n",
       "       ..., \n",
       "       [ 0.88237872,  0.11762128],\n",
       "       [ 0.4383438 ,  0.5616562 ],\n",
       "       [ 0.84972247,  0.15027753]])"
      ]
     },
     "execution_count": 101,
     "metadata": {},
     "output_type": "execute_result"
    }
   ],
   "source": [
    "pred = logistic.predict_proba(X)\n",
    "pred"
   ]
  },
  {
   "cell_type": "markdown",
   "metadata": {},
   "source": [
    "Propensity score of a data point represents its probability of receiving the treatment. Therefore, we add the 1st column to the DataFrame"
   ]
  },
  {
   "cell_type": "code",
   "execution_count": 102,
   "metadata": {},
   "outputs": [
    {
     "data": {
      "text/html": [
       "<div>\n",
       "<style>\n",
       "    .dataframe thead tr:only-child th {\n",
       "        text-align: right;\n",
       "    }\n",
       "\n",
       "    .dataframe thead th {\n",
       "        text-align: left;\n",
       "    }\n",
       "\n",
       "    .dataframe tbody tr th {\n",
       "        vertical-align: top;\n",
       "    }\n",
       "</style>\n",
       "<table border=\"1\" class=\"dataframe\">\n",
       "  <thead>\n",
       "    <tr style=\"text-align: right;\">\n",
       "      <th></th>\n",
       "      <th>id</th>\n",
       "      <th>treat</th>\n",
       "      <th>age</th>\n",
       "      <th>educ</th>\n",
       "      <th>black</th>\n",
       "      <th>hispan</th>\n",
       "      <th>white</th>\n",
       "      <th>married</th>\n",
       "      <th>nodegree</th>\n",
       "      <th>re74</th>\n",
       "      <th>re75</th>\n",
       "      <th>re78</th>\n",
       "      <th>propensity_score</th>\n",
       "    </tr>\n",
       "  </thead>\n",
       "  <tbody>\n",
       "    <tr>\n",
       "      <th>594</th>\n",
       "      <td>PSID410</td>\n",
       "      <td>0</td>\n",
       "      <td>42</td>\n",
       "      <td>16</td>\n",
       "      <td>0</td>\n",
       "      <td>0</td>\n",
       "      <td>1</td>\n",
       "      <td>0</td>\n",
       "      <td>0</td>\n",
       "      <td>0.0</td>\n",
       "      <td>0.0</td>\n",
       "      <td>23764.8000</td>\n",
       "      <td>0.094527</td>\n",
       "    </tr>\n",
       "    <tr>\n",
       "      <th>595</th>\n",
       "      <td>PSID411</td>\n",
       "      <td>0</td>\n",
       "      <td>18</td>\n",
       "      <td>10</td>\n",
       "      <td>1</td>\n",
       "      <td>0</td>\n",
       "      <td>0</td>\n",
       "      <td>0</td>\n",
       "      <td>1</td>\n",
       "      <td>0.0</td>\n",
       "      <td>0.0</td>\n",
       "      <td>5306.5160</td>\n",
       "      <td>0.698739</td>\n",
       "    </tr>\n",
       "    <tr>\n",
       "      <th>596</th>\n",
       "      <td>PSID412</td>\n",
       "      <td>0</td>\n",
       "      <td>53</td>\n",
       "      <td>12</td>\n",
       "      <td>1</td>\n",
       "      <td>0</td>\n",
       "      <td>0</td>\n",
       "      <td>0</td>\n",
       "      <td>0</td>\n",
       "      <td>0.0</td>\n",
       "      <td>0.0</td>\n",
       "      <td>0.0000</td>\n",
       "      <td>0.573974</td>\n",
       "    </tr>\n",
       "    <tr>\n",
       "      <th>597</th>\n",
       "      <td>PSID413</td>\n",
       "      <td>0</td>\n",
       "      <td>17</td>\n",
       "      <td>10</td>\n",
       "      <td>0</td>\n",
       "      <td>0</td>\n",
       "      <td>1</td>\n",
       "      <td>1</td>\n",
       "      <td>1</td>\n",
       "      <td>0.0</td>\n",
       "      <td>0.0</td>\n",
       "      <td>3859.8220</td>\n",
       "      <td>0.093091</td>\n",
       "    </tr>\n",
       "    <tr>\n",
       "      <th>598</th>\n",
       "      <td>PSID414</td>\n",
       "      <td>0</td>\n",
       "      <td>17</td>\n",
       "      <td>6</td>\n",
       "      <td>0</td>\n",
       "      <td>0</td>\n",
       "      <td>1</td>\n",
       "      <td>0</td>\n",
       "      <td>1</td>\n",
       "      <td>0.0</td>\n",
       "      <td>0.0</td>\n",
       "      <td>0.0000</td>\n",
       "      <td>0.156846</td>\n",
       "    </tr>\n",
       "    <tr>\n",
       "      <th>599</th>\n",
       "      <td>PSID415</td>\n",
       "      <td>0</td>\n",
       "      <td>43</td>\n",
       "      <td>6</td>\n",
       "      <td>0</td>\n",
       "      <td>0</td>\n",
       "      <td>1</td>\n",
       "      <td>1</td>\n",
       "      <td>1</td>\n",
       "      <td>0.0</td>\n",
       "      <td>0.0</td>\n",
       "      <td>0.0000</td>\n",
       "      <td>0.072665</td>\n",
       "    </tr>\n",
       "    <tr>\n",
       "      <th>600</th>\n",
       "      <td>PSID416</td>\n",
       "      <td>0</td>\n",
       "      <td>34</td>\n",
       "      <td>12</td>\n",
       "      <td>1</td>\n",
       "      <td>0</td>\n",
       "      <td>0</td>\n",
       "      <td>0</td>\n",
       "      <td>0</td>\n",
       "      <td>0.0</td>\n",
       "      <td>0.0</td>\n",
       "      <td>0.0000</td>\n",
       "      <td>0.635981</td>\n",
       "    </tr>\n",
       "    <tr>\n",
       "      <th>601</th>\n",
       "      <td>PSID417</td>\n",
       "      <td>0</td>\n",
       "      <td>16</td>\n",
       "      <td>8</td>\n",
       "      <td>0</td>\n",
       "      <td>1</td>\n",
       "      <td>0</td>\n",
       "      <td>0</td>\n",
       "      <td>1</td>\n",
       "      <td>0.0</td>\n",
       "      <td>0.0</td>\n",
       "      <td>12242.9600</td>\n",
       "      <td>0.315780</td>\n",
       "    </tr>\n",
       "    <tr>\n",
       "      <th>602</th>\n",
       "      <td>PSID418</td>\n",
       "      <td>0</td>\n",
       "      <td>27</td>\n",
       "      <td>12</td>\n",
       "      <td>0</td>\n",
       "      <td>0</td>\n",
       "      <td>1</td>\n",
       "      <td>1</td>\n",
       "      <td>0</td>\n",
       "      <td>0.0</td>\n",
       "      <td>0.0</td>\n",
       "      <td>1533.8800</td>\n",
       "      <td>0.077434</td>\n",
       "    </tr>\n",
       "    <tr>\n",
       "      <th>603</th>\n",
       "      <td>PSID419</td>\n",
       "      <td>0</td>\n",
       "      <td>51</td>\n",
       "      <td>4</td>\n",
       "      <td>1</td>\n",
       "      <td>0</td>\n",
       "      <td>0</td>\n",
       "      <td>0</td>\n",
       "      <td>1</td>\n",
       "      <td>0.0</td>\n",
       "      <td>0.0</td>\n",
       "      <td>0.0000</td>\n",
       "      <td>0.626767</td>\n",
       "    </tr>\n",
       "    <tr>\n",
       "      <th>604</th>\n",
       "      <td>PSID420</td>\n",
       "      <td>0</td>\n",
       "      <td>39</td>\n",
       "      <td>2</td>\n",
       "      <td>1</td>\n",
       "      <td>0</td>\n",
       "      <td>0</td>\n",
       "      <td>1</td>\n",
       "      <td>1</td>\n",
       "      <td>0.0</td>\n",
       "      <td>0.0</td>\n",
       "      <td>964.9555</td>\n",
       "      <td>0.553880</td>\n",
       "    </tr>\n",
       "    <tr>\n",
       "      <th>605</th>\n",
       "      <td>PSID421</td>\n",
       "      <td>0</td>\n",
       "      <td>55</td>\n",
       "      <td>8</td>\n",
       "      <td>0</td>\n",
       "      <td>0</td>\n",
       "      <td>1</td>\n",
       "      <td>1</td>\n",
       "      <td>1</td>\n",
       "      <td>0.0</td>\n",
       "      <td>0.0</td>\n",
       "      <td>0.0000</td>\n",
       "      <td>0.059895</td>\n",
       "    </tr>\n",
       "    <tr>\n",
       "      <th>606</th>\n",
       "      <td>PSID422</td>\n",
       "      <td>0</td>\n",
       "      <td>16</td>\n",
       "      <td>9</td>\n",
       "      <td>0</td>\n",
       "      <td>0</td>\n",
       "      <td>1</td>\n",
       "      <td>0</td>\n",
       "      <td>1</td>\n",
       "      <td>0.0</td>\n",
       "      <td>0.0</td>\n",
       "      <td>5551.8190</td>\n",
       "      <td>0.150278</td>\n",
       "    </tr>\n",
       "    <tr>\n",
       "      <th>607</th>\n",
       "      <td>PSID423</td>\n",
       "      <td>0</td>\n",
       "      <td>27</td>\n",
       "      <td>10</td>\n",
       "      <td>1</td>\n",
       "      <td>0</td>\n",
       "      <td>0</td>\n",
       "      <td>0</td>\n",
       "      <td>1</td>\n",
       "      <td>0.0</td>\n",
       "      <td>0.0</td>\n",
       "      <td>7543.7940</td>\n",
       "      <td>0.672211</td>\n",
       "    </tr>\n",
       "    <tr>\n",
       "      <th>608</th>\n",
       "      <td>PSID424</td>\n",
       "      <td>0</td>\n",
       "      <td>25</td>\n",
       "      <td>14</td>\n",
       "      <td>0</td>\n",
       "      <td>0</td>\n",
       "      <td>1</td>\n",
       "      <td>0</td>\n",
       "      <td>0</td>\n",
       "      <td>0.0</td>\n",
       "      <td>0.0</td>\n",
       "      <td>0.0000</td>\n",
       "      <td>0.120868</td>\n",
       "    </tr>\n",
       "    <tr>\n",
       "      <th>609</th>\n",
       "      <td>PSID425</td>\n",
       "      <td>0</td>\n",
       "      <td>18</td>\n",
       "      <td>11</td>\n",
       "      <td>0</td>\n",
       "      <td>0</td>\n",
       "      <td>1</td>\n",
       "      <td>0</td>\n",
       "      <td>1</td>\n",
       "      <td>0.0</td>\n",
       "      <td>0.0</td>\n",
       "      <td>10150.5000</td>\n",
       "      <td>0.141536</td>\n",
       "    </tr>\n",
       "    <tr>\n",
       "      <th>610</th>\n",
       "      <td>PSID426</td>\n",
       "      <td>0</td>\n",
       "      <td>24</td>\n",
       "      <td>1</td>\n",
       "      <td>0</td>\n",
       "      <td>1</td>\n",
       "      <td>0</td>\n",
       "      <td>1</td>\n",
       "      <td>1</td>\n",
       "      <td>0.0</td>\n",
       "      <td>0.0</td>\n",
       "      <td>19464.6100</td>\n",
       "      <td>0.224128</td>\n",
       "    </tr>\n",
       "    <tr>\n",
       "      <th>611</th>\n",
       "      <td>PSID427</td>\n",
       "      <td>0</td>\n",
       "      <td>21</td>\n",
       "      <td>18</td>\n",
       "      <td>0</td>\n",
       "      <td>0</td>\n",
       "      <td>1</td>\n",
       "      <td>0</td>\n",
       "      <td>0</td>\n",
       "      <td>0.0</td>\n",
       "      <td>0.0</td>\n",
       "      <td>0.0000</td>\n",
       "      <td>0.117621</td>\n",
       "    </tr>\n",
       "    <tr>\n",
       "      <th>612</th>\n",
       "      <td>PSID428</td>\n",
       "      <td>0</td>\n",
       "      <td>32</td>\n",
       "      <td>5</td>\n",
       "      <td>1</td>\n",
       "      <td>0</td>\n",
       "      <td>0</td>\n",
       "      <td>1</td>\n",
       "      <td>1</td>\n",
       "      <td>0.0</td>\n",
       "      <td>0.0</td>\n",
       "      <td>187.6713</td>\n",
       "      <td>0.561656</td>\n",
       "    </tr>\n",
       "    <tr>\n",
       "      <th>613</th>\n",
       "      <td>PSID429</td>\n",
       "      <td>0</td>\n",
       "      <td>16</td>\n",
       "      <td>9</td>\n",
       "      <td>0</td>\n",
       "      <td>0</td>\n",
       "      <td>1</td>\n",
       "      <td>0</td>\n",
       "      <td>1</td>\n",
       "      <td>0.0</td>\n",
       "      <td>0.0</td>\n",
       "      <td>1495.4590</td>\n",
       "      <td>0.150278</td>\n",
       "    </tr>\n",
       "  </tbody>\n",
       "</table>\n",
       "</div>"
      ],
      "text/plain": [
       "          id  treat  age  educ  black  hispan  white  married  nodegree  re74  \\\n",
       "594  PSID410      0   42    16      0       0      1        0         0   0.0   \n",
       "595  PSID411      0   18    10      1       0      0        0         1   0.0   \n",
       "596  PSID412      0   53    12      1       0      0        0         0   0.0   \n",
       "597  PSID413      0   17    10      0       0      1        1         1   0.0   \n",
       "598  PSID414      0   17     6      0       0      1        0         1   0.0   \n",
       "599  PSID415      0   43     6      0       0      1        1         1   0.0   \n",
       "600  PSID416      0   34    12      1       0      0        0         0   0.0   \n",
       "601  PSID417      0   16     8      0       1      0        0         1   0.0   \n",
       "602  PSID418      0   27    12      0       0      1        1         0   0.0   \n",
       "603  PSID419      0   51     4      1       0      0        0         1   0.0   \n",
       "604  PSID420      0   39     2      1       0      0        1         1   0.0   \n",
       "605  PSID421      0   55     8      0       0      1        1         1   0.0   \n",
       "606  PSID422      0   16     9      0       0      1        0         1   0.0   \n",
       "607  PSID423      0   27    10      1       0      0        0         1   0.0   \n",
       "608  PSID424      0   25    14      0       0      1        0         0   0.0   \n",
       "609  PSID425      0   18    11      0       0      1        0         1   0.0   \n",
       "610  PSID426      0   24     1      0       1      0        1         1   0.0   \n",
       "611  PSID427      0   21    18      0       0      1        0         0   0.0   \n",
       "612  PSID428      0   32     5      1       0      0        1         1   0.0   \n",
       "613  PSID429      0   16     9      0       0      1        0         1   0.0   \n",
       "\n",
       "     re75        re78  propensity_score  \n",
       "594   0.0  23764.8000          0.094527  \n",
       "595   0.0   5306.5160          0.698739  \n",
       "596   0.0      0.0000          0.573974  \n",
       "597   0.0   3859.8220          0.093091  \n",
       "598   0.0      0.0000          0.156846  \n",
       "599   0.0      0.0000          0.072665  \n",
       "600   0.0      0.0000          0.635981  \n",
       "601   0.0  12242.9600          0.315780  \n",
       "602   0.0   1533.8800          0.077434  \n",
       "603   0.0      0.0000          0.626767  \n",
       "604   0.0    964.9555          0.553880  \n",
       "605   0.0      0.0000          0.059895  \n",
       "606   0.0   5551.8190          0.150278  \n",
       "607   0.0   7543.7940          0.672211  \n",
       "608   0.0      0.0000          0.120868  \n",
       "609   0.0  10150.5000          0.141536  \n",
       "610   0.0  19464.6100          0.224128  \n",
       "611   0.0      0.0000          0.117621  \n",
       "612   0.0    187.6713          0.561656  \n",
       "613   0.0   1495.4590          0.150278  "
      ]
     },
     "execution_count": 102,
     "metadata": {},
     "output_type": "execute_result"
    }
   ],
   "source": [
    "data['propensity_score'] = pred[:,1]\n",
    "data.tail(20)"
   ]
  },
  {
   "cell_type": "markdown",
   "metadata": {},
   "source": [
    "### 4. Balancing the dataset via matching"
   ]
  },
  {
   "cell_type": "markdown",
   "metadata": {},
   "source": [
    "Matching the elements belonging to the treated set to those belonging to the control set while minimizing the total absolute difference between their respective propensity scores is equivalent to solving the maximum weight matching problem (in our case minimum), which can be solved using the Hungarian or Kuhn-Munkres algorithm.<br>\n",
    "If we define a cost matrix c_m as the matrix having as many rows as #people in treated group, having as many columns as #people in control group, and each entry being the absolute difference between propensity scores belonging to treated and control people, then we can solve this as a linear sum assignment problem.<br>\n",
    "For this purpose we can use the linear_sum_assignment method from scipy."
   ]
  },
  {
   "cell_type": "code",
   "execution_count": 103,
   "metadata": {
    "collapsed": true
   },
   "outputs": [],
   "source": [
    "from scipy.optimize import linear_sum_assignment"
   ]
  },
  {
   "cell_type": "markdown",
   "metadata": {},
   "source": [
    "We realize our Match() function which will take the dataset with treat== 1 or 0 and the propensity scores:<br>\n",
    "1- it separates elements of propensity according to whether they are treated or control<br>\n",
    "2- creates an empty matrix which will be the cost matrix (with all the absolute differences)<br>\n",
    "3- creates a matches array which will have two sub-arrays, with the elements from treated matched to those in control orderedly<br>\n",
    "4- returns the matches array and the cost matrix (which has been used for private checks)"
   ]
  },
  {
   "cell_type": "code",
   "execution_count": 104,
   "metadata": {
    "collapsed": true
   },
   "outputs": [],
   "source": [
    "def Match(groups, propensity):\n",
    "     \n",
    "    # Compute the length of two groups\n",
    "    # Code two groups(control group, treated group) as 0 and 1\n",
    "    #groups = groups == groups.unique()[0]\n",
    "    groups_length = len(groups)\n",
    "    treated_group_length = groups.sum()\n",
    "    control_group_length = groups_length-treated_group_length\n",
    "    propensity_treated, propensity_control = propensity[groups == 1], (propensity[groups == 0])\n",
    "    # The length of treated group is 185 and length of control group is 614-185=429 so we need to fill the empty space by NAN\n",
    "\n",
    "    # the cost matrix c_m initialized to zero\n",
    "    c_m = np.zeros((treated_group_length, control_group_length))\n",
    "    # The match array\n",
    "    matches = pd.Series(np.empty(treated_group_length))\n",
    "    \n",
    "    # Here we fill the cost matrix, originally every entry has 0, then we add the distance to each of them\n",
    "    # obtaining the final cost matrix, this will be given to the linear_sum_assignment method which will return\n",
    "    # two arrays,  one with the row indices and other with the corresponding column indices,\n",
    "    # giving the optimal assignment\n",
    "    \n",
    "    for i in range(treated_group_length):\n",
    "        distance = abs(propensity_treated[i] - propensity_control)\n",
    "        # the entries of c_m == 0, adding the distance means that we store those distances for each element in treated\n",
    "        c_m[i] = c_m[i] + distance\n",
    "        \n",
    "    # here we use the linear sum assignment method to get the array of matches    \n",
    "    matches = linear_sum_assignment(c_m)\n",
    "    return matches, c_m"
   ]
  },
  {
   "cell_type": "markdown",
   "metadata": {},
   "source": [
    "Length of all group (treated group and control group)"
   ]
  },
  {
   "cell_type": "code",
   "execution_count": 105,
   "metadata": {},
   "outputs": [
    {
     "data": {
      "text/plain": [
       "614"
      ]
     },
     "execution_count": 105,
     "metadata": {},
     "output_type": "execute_result"
    }
   ],
   "source": [
    "groups_length = len(data.treat)\n",
    "groups_length"
   ]
  },
  {
   "cell_type": "markdown",
   "metadata": {},
   "source": [
    "Length of the treated group"
   ]
  },
  {
   "cell_type": "code",
   "execution_count": 106,
   "metadata": {},
   "outputs": [
    {
     "data": {
      "text/plain": [
       "185"
      ]
     },
     "execution_count": 106,
     "metadata": {},
     "output_type": "execute_result"
    }
   ],
   "source": [
    "data.treat.sum()"
   ]
  },
  {
   "cell_type": "markdown",
   "metadata": {},
   "source": [
    "Matching the propensity scores:"
   ]
  },
  {
   "cell_type": "code",
   "execution_count": 107,
   "metadata": {
    "collapsed": true
   },
   "outputs": [],
   "source": [
    "# we initialize a new matrix c_matr with N rows (number of treat values) and D columns (number of ) just for private checks\n",
    "c_matr = np.zeros((data.treat.sum(), groups_length))\n",
    "\n",
    "# And we run the match function, which will return 2 arrays with the matching Treat and relative Control and the cost matrix #just used to check correctness \n",
    "matching, c_matr = Match(data.treat, data.propensity_score)"
   ]
  },
  {
   "cell_type": "markdown",
   "metadata": {},
   "source": [
    "Since we want to take all the control rows from the original dataset \"data\", we notice that linear_sum_assignment used inside our Match() function returned the matching with a indexing starting from 0 and not 185, so to get the correct control rows we just sum 185 (or equivalently data.treat.sum())"
   ]
  },
  {
   "cell_type": "code",
   "execution_count": 108,
   "metadata": {
    "collapsed": true,
    "scrolled": true
   },
   "outputs": [],
   "source": [
    "control_indexes = matching[1] + data.treat.sum()"
   ]
  },
  {
   "cell_type": "code",
   "execution_count": 109,
   "metadata": {
    "collapsed": true
   },
   "outputs": [],
   "source": [
    "# Get the portion of data that we matched earlier\n",
    "control_selection = data.iloc[control_indexes]"
   ]
  },
  {
   "cell_type": "markdown",
   "metadata": {},
   "source": [
    "Here just to make sure that the elements having treat == 1 and being processes inside the method Match() are considered, we get from data the list of these elements with iloc."
   ]
  },
  {
   "cell_type": "code",
   "execution_count": 110,
   "metadata": {
    "collapsed": true
   },
   "outputs": [],
   "source": [
    "treat_selection = data.iloc[matching[0]]"
   ]
  },
  {
   "cell_type": "markdown",
   "metadata": {},
   "source": [
    "Now let's have a look at the following features with the matched set:\n",
    "* Earnings from 1974 and 1975\n",
    "* Earnings from 1978\n",
    "* White \n",
    "* Black \n",
    "* Hispanic"
   ]
  },
  {
   "cell_type": "markdown",
   "metadata": {},
   "source": [
    "<h3> Earnings from 1974 and 1975"
   ]
  },
  {
   "cell_type": "markdown",
   "metadata": {},
   "source": [
    "Now lets compare these two groups:"
   ]
  },
  {
   "cell_type": "code",
   "execution_count": 111,
   "metadata": {},
   "outputs": [
    {
     "data": {
      "image/png": "[encoded data removed]",
      "text/plain": [
       "<matplotlib.figure.Figure at 0x11a91b978>"
      ]
     },
     "metadata": {},
     "output_type": "display_data"
    }
   ],
   "source": [
    "total_selection74 = pd.DataFrame({'treated': treat_selection.re74, 'control': control_selection.re74}, columns = ['treated', 'control'])\n",
    "total_selection75 = pd.DataFrame({'treated': treat_selection.re75, 'control': control_selection.re75}, columns = ['treated', 'control'])\n",
    "\n",
    "f, axs = plt.subplots(1,2,sharey=True)\n",
    "total_selection74.plot.hist(ax=axs[0], title = '1974 earnings', figsize=(16, 7), grid=True, alpha=0.7, color=['crimson', 'burlywood'],)\n",
    "total_selection75.plot.hist(ax=axs[1], title = '1975 earning', grid=True, alpha=0.7);"
   ]
  },
  {
   "cell_type": "markdown",
   "metadata": {},
   "source": [
    "<h3> Earnings from 1978"
   ]
  },
  {
   "cell_type": "markdown",
   "metadata": {},
   "source": [
    "First we plot the boxplots"
   ]
  },
  {
   "cell_type": "code",
   "execution_count": 112,
   "metadata": {},
   "outputs": [
    {
     "data": {
      "text/plain": [
       "<matplotlib.axes._subplots.AxesSubplot at 0x11c9d6ac8>"
      ]
     },
     "execution_count": 112,
     "metadata": {},
     "output_type": "execute_result"
    },
    {
     "data": {
      "image/png": "[encoded data removed]",
      "text/plain": [
       "<matplotlib.figure.Figure at 0x11d1deb38>"
      ]
     },
     "metadata": {},
     "output_type": "display_data"
    }
   ],
   "source": [
    "#plot the boxplots\n",
    "f, axs = plt.subplots(1,2,sharey=True)\n",
    "treat_selection.plot.box(y='re78', ax=axs[0], title = 'Treated group', figsize=(16, 7), grid=True)\n",
    "control_selection.plot.box(y='re78', ax=axs[1], title = 'Control group', grid=True)"
   ]
  },
  {
   "cell_type": "markdown",
   "metadata": {},
   "source": [
    "Then the barplots"
   ]
  },
  {
   "cell_type": "code",
   "execution_count": 113,
   "metadata": {},
   "outputs": [
    {
     "data": {
      "image/png": "[encoded data removed]",
      "text/plain": [
       "<matplotlib.figure.Figure at 0x11d4507f0>"
      ]
     },
     "metadata": {},
     "output_type": "display_data"
    }
   ],
   "source": [
    "total_selection = pd.DataFrame({'treated': treat_selection.re78, 'control': control_selection.re78}, columns = ['treated', 'control'])\n",
    "# In this case adding normed=\"True\" naturally brings no change to the plot \n",
    "total_selection.plot.hist(stacked=True, bins=20)\n",
    "plt.title(r'Treated and Control selected groups');"
   ]
  },
  {
   "cell_type": "markdown",
   "metadata": {},
   "source": [
    "And the barplots side by side"
   ]
  },
  {
   "cell_type": "code",
   "execution_count": 114,
   "metadata": {},
   "outputs": [
    {
     "data": {
      "image/png": "[encoded data removed]",
      "text/plain": [
       "<matplotlib.figure.Figure at 0x11d0122b0>"
      ]
     },
     "metadata": {},
     "output_type": "display_data"
    }
   ],
   "source": [
    "# The blue bars refer to treated and the green ones to control\n",
    "plt.hist([treat_selection.re78, control_selection.re78], bins=10);"
   ]
  },
  {
   "cell_type": "markdown",
   "metadata": {},
   "source": [
    "We notice from the two plots that the treated group has outliers with much higher 1978's earnings "
   ]
  },
  {
   "cell_type": "markdown",
   "metadata": {},
   "source": [
    "<h3> White"
   ]
  },
  {
   "cell_type": "code",
   "execution_count": 115,
   "metadata": {
    "scrolled": true
   },
   "outputs": [
    {
     "data": {
      "text/plain": [
       "count       18.000000\n",
       "mean      7720.992278\n",
       "std       5564.944194\n",
       "min          0.000000\n",
       "25%       4254.658000\n",
       "50%       5998.226500\n",
       "75%      12582.537500\n",
       "max      18783.350000\n",
       "Name: re78, dtype: float64"
      ]
     },
     "execution_count": 115,
     "metadata": {},
     "output_type": "execute_result"
    }
   ],
   "source": [
    "## White which is black==0 and hispanic==0\n",
    "select_white_treat = treat_selection[np.logical_and(treat_selection.hispan == 0, treat_selection.black == 0 )]\n",
    "select_white_control = control_selection[np.logical_and(control_selection.hispan == 0, control_selection.black == 0 )]\n",
    "\n",
    "select_white_treat.re78.describe()"
   ]
  },
  {
   "cell_type": "code",
   "execution_count": 116,
   "metadata": {},
   "outputs": [
    {
     "data": {
      "image/png": "[encoded data removed]",
      "text/plain": [
       "<matplotlib.figure.Figure at 0x11d8b2c18>"
      ]
     },
     "metadata": {},
     "output_type": "display_data"
    }
   ],
   "source": [
    "plt.hist([treat_selection.re78, control_selection.re78], bins=10);"
   ]
  },
  {
   "cell_type": "markdown",
   "metadata": {},
   "source": [
    "<h3> Black & Hispanic"
   ]
  },
  {
   "cell_type": "code",
   "execution_count": 117,
   "metadata": {
    "collapsed": true
   },
   "outputs": [],
   "source": [
    "# black\n",
    "select_black_treat = treat_selection[treat_selection.black ==1]\n",
    "select_black_control = control_selection[control_selection.black == 1]\n",
    "\n",
    "# hispanic\n",
    "select_hispanic_treat = treat_selection[treat_selection.hispan == 1]\n",
    "select_hispanic_control = control_selection[control_selection.hispan == 1]"
   ]
  },
  {
   "cell_type": "code",
   "execution_count": 118,
   "metadata": {},
   "outputs": [
    {
     "data": {
      "image/png": "[encoded data removed]",
      "text/plain": [
       "<matplotlib.figure.Figure at 0x11b2a5780>"
      ]
     },
     "metadata": {},
     "output_type": "display_data"
    }
   ],
   "source": [
    "total_black = pd.DataFrame({'treated': select_black_treat.re78, 'control': select_black_control.re78}, columns = ['treated', 'control'])\n",
    "total_hispanic = pd.DataFrame({'treated': select_hispanic_treat.re78, 'control': select_hispanic_control.re78}, columns = ['treated', 'control'])\n",
    "\n",
    "f, axs = plt.subplots(1,2,sharey=True)\n",
    "total_selection74.plot.hist(ax=axs[0], title = 'Black re78', figsize=(16, 7), grid=True, alpha=0.7, color=['red', 'darkgreen'])\n",
    "total_selection75.plot.hist(ax=axs[1], title = 'Hispanic re78', grid=True, alpha=0.7, color=['red','darkgreen'],);"
   ]
  },
  {
   "cell_type": "code",
   "execution_count": 119,
   "metadata": {
    "scrolled": true
   },
   "outputs": [
    {
     "data": {
      "text/plain": [
       "count      156.000000\n",
       "mean      6136.320647\n",
       "std       8143.465973\n",
       "min          0.000000\n",
       "25%          0.000000\n",
       "50%       3879.584000\n",
       "75%       9417.903000\n",
       "max      60307.930000\n",
       "Name: re78, dtype: float64"
      ]
     },
     "execution_count": 119,
     "metadata": {},
     "output_type": "execute_result"
    }
   ],
   "source": [
    "select_black_treat.re78.describe()"
   ]
  },
  {
   "cell_type": "code",
   "execution_count": 120,
   "metadata": {},
   "outputs": [
    {
     "data": {
      "text/plain": [
       "count       87.000000\n",
       "mean      4853.431497\n",
       "std       6201.725283\n",
       "min          0.000000\n",
       "25%          0.000000\n",
       "50%       1613.677000\n",
       "75%       8044.004500\n",
       "max      20243.380000\n",
       "Name: re78, dtype: float64"
      ]
     },
     "execution_count": 120,
     "metadata": {},
     "output_type": "execute_result"
    }
   ],
   "source": [
    "select_black_control.re78.describe()"
   ]
  },
  {
   "cell_type": "markdown",
   "metadata": {},
   "source": [
    "What we observe is a slightly better allineation in the Treated-Control frequencies for 1978 Earning, White and Hispanic, but for the Black Ethnicity group there seem to be more people earning more among those belonging to the Control set than in the Treat set, but probably this is due to the fact that there are 156 people in Treat and only 87 in Control.<br>\n",
    "There's the need to refine the analysis to draw better conclusions."
   ]
  },
  {
   "cell_type": "markdown",
   "metadata": {},
   "source": [
    "### 5. Balancing the groups further"
   ]
  },
  {
   "cell_type": "markdown",
   "metadata": {},
   "source": [
    "Based on your comparison of feature-value distributions from part 4, are you fully satisfied with your matching? Would you say your dataset is sufficiently balanced? If not, in what ways could the \"balanced\" dataset you have obtained still not allow you to draw valid conclusions?\n",
    "\n",
    "Improve your matching by explicitly making sure that you match only subjects that have the same value for the problematic feature. Argue with numbers and plots that the two groups (treated and control) are now better balanced than after part 4."
   ]
  },
  {
   "cell_type": "markdown",
   "metadata": {
    "collapsed": true
   },
   "source": [
    "We are not fully satisfied with the matching and as noticed in the previous task there is at least one group which is unbalanced.<br> Now the aim is to balance the problematic feature set by having an exact match Control-Treat, with in total only 87 + 87 elements "
   ]
  },
  {
   "cell_type": "markdown",
   "metadata": {},
   "source": [
    "The method is follows this procedure:\n",
    "- find the treated elements from the total treated group\n",
    "- find the ones which were matched to select_black_control through their position in the matching array (it's enough to know the position since it corresponds to the values of treated set.\n",
    "- erase the 156-87 values\n",
    "- compute 5 and 6"
   ]
  },
  {
   "cell_type": "markdown",
   "metadata": {},
   "source": [
    "### 6. A less naive analysis"
   ]
  },
  {
   "cell_type": "markdown",
   "metadata": {
    "collapsed": true
   },
   "source": [
    "Compare the outcomes (re78) between treated and control subjects, as you've done in part 1, but now only for the matched dataset you've obtained from part 5.<br> What do you conclude about the effectiveness of the job training program?"
   ]
  },
  {
   "cell_type": "markdown",
   "metadata": {},
   "source": [
    "## Question 2: Applied ML"
   ]
  },
  {
   "cell_type": "code",
   "execution_count": 121,
   "metadata": {
    "collapsed": true
   },
   "outputs": [],
   "source": [
    "from sklearn.feature_extraction.text import TfidfVectorizer\n",
    "from sklearn.model_selection import train_test_split\n",
    "from sklearn.ensemble import RandomForestClassifier\n",
    "from sklearn.model_selection import cross_val_score\n",
    "from sklearn.model_selection import GridSearchCV\n",
    "from sklearn.metrics import confusion_matrix"
   ]
  },
  {
   "cell_type": "markdown",
   "metadata": {},
   "source": [
    "### 1. Load the 20newsgroup dataset"
   ]
  },
  {
   "cell_type": "markdown",
   "metadata": {},
   "source": [
    "We download the the data archive from the original 20 newsgroups website and we extract the archive contents in the ~/scikit_learn_data/20news_home folder. Then we load the training set folder."
   ]
  },
  {
   "cell_type": "code",
   "execution_count": 122,
   "metadata": {
    "collapsed": true
   },
   "outputs": [],
   "source": [
    "# Download the dataset\n",
    "from sklearn.datasets import fetch_20newsgroups\n",
    "newsgroups_train = fetch_20newsgroups(subset='train')"
   ]
  },
  {
   "cell_type": "markdown",
   "metadata": {},
   "source": [
    "The data is organized into 20 different newsgroups, each corresponding to a different topic"
   ]
  },
  {
   "cell_type": "code",
   "execution_count": 123,
   "metadata": {},
   "outputs": [
    {
     "data": {
      "text/plain": [
       "['alt.atheism', 'comp.graphics', 'comp.os.ms-windows.misc']"
      ]
     },
     "execution_count": 123,
     "metadata": {},
     "output_type": "execute_result"
    }
   ],
   "source": [
    "# example of the first 3 categories\n",
    "newsgroups_train.target_names[:3]"
   ]
  },
  {
   "cell_type": "code",
   "execution_count": 124,
   "metadata": {},
   "outputs": [
    {
     "data": {
      "text/plain": [
       "11314"
      ]
     },
     "execution_count": 124,
     "metadata": {},
     "output_type": "execute_result"
    }
   ],
   "source": [
    "# The number of the files included in the taining set\n",
    "len(newsgroups_train.data)"
   ]
  },
  {
   "cell_type": "code",
   "execution_count": 125,
   "metadata": {},
   "outputs": [
    {
     "data": {
      "text/plain": [
       "array([ 7,  4,  4,  1, 14, 16, 13,  3,  2,  4])"
      ]
     },
     "execution_count": 125,
     "metadata": {},
     "output_type": "execute_result"
    }
   ],
   "source": [
    "# The target attribute is the integer index of the category:\n",
    "newsgroups_train.target[:10]"
   ]
  },
  {
   "cell_type": "code",
   "execution_count": 126,
   "metadata": {},
   "outputs": [
    {
     "data": {
      "text/plain": [
       "\"From: lerxst@wam.umd.edu (where's my thing)\\nSubject: WHAT car is this!?\\nNntp-Posting-Host: rac3.wam.umd.edu\\nOrganization: University of Maryland, College Park\\nLines: 15\\n\\n I was wondering if anyone out there could enlighten me on this car I saw\\nthe other day. It was a 2-door sports car, looked to be from the late 60s/\\nearly 70s. It was called a Bricklin. The doors were really small. In addition,\\nthe front bumper was separate from the rest of the body. This is \\nall I know. If anyone can tellme a model name, engine specs, years\\nof production, where this car is made, history, or whatever info you\\nhave on this funky looking car, please e-mail.\\n\\nThanks,\\n- IL\\n   ---- brought to you by your neighborhood Lerxst ----\\n\\n\\n\\n\\n\""
      ]
     },
     "execution_count": 126,
     "metadata": {},
     "output_type": "execute_result"
    }
   ],
   "source": [
    "# Sample of the articles included in the dataset\n",
    "newsgroups_train.data[0]"
   ]
  },
  {
   "cell_type": "markdown",
   "metadata": {},
   "source": [
    "In order to classify the news we turn the text into vectors of numerical values. We extract TF-IDF vectors of unigram tokens from the dataset"
   ]
  },
  {
   "cell_type": "code",
   "execution_count": 127,
   "metadata": {},
   "outputs": [
    {
     "data": {
      "text/plain": [
       "(11314, 130107)"
      ]
     },
     "execution_count": 127,
     "metadata": {},
     "output_type": "execute_result"
    }
   ],
   "source": [
    "# The vectorizer extracts TF-IDF vectors\n",
    "vectorizer = TfidfVectorizer()\n",
    "\n",
    "# A vector is created for every document of the dataset\n",
    "# fit_transform() returns tf-idf-weighted document-term matrix.\n",
    "vectors = vectorizer.fit_transform(newsgroups_train.data) \n",
    "vectors.shape"
   ]
  },
  {
   "cell_type": "markdown",
   "metadata": {},
   "source": [
    "Now we have to split our dataset into 3 subsets, 80% train set, 10% validation set and 10% set. In the 2nd task we are going to use the method GridSearchCV() to fine-tune two parameters. By working on Question2, we concluded that it is more convenient for the implementation of the task to split now the initial data set only into train (90%) and test (10%), and to define our validation set when we call the method GridSearchCV(). That is because we cannot give as input the a completely separate set in GridSearchCV() for crossvalidation\n",
    "\n",
    "We also keep paired the documents of each subset with their corresponding labels (article category)"
   ]
  },
  {
   "cell_type": "code",
   "execution_count": 128,
   "metadata": {
    "collapsed": true
   },
   "outputs": [],
   "source": [
    "# the features are the tf-idf values. One entry per document\n",
    "X = vectors\n",
    "# Document's labels \n",
    "y = newsgroups_train.target[:]\n",
    "\n",
    "# we split the train set into subsets. 90% will be used for training and the rest 10% for validation and testing\n",
    "X_train, X_test, y_train, y_test = train_test_split(X, y, test_size=0.10) "
   ]
  },
  {
   "cell_type": "markdown",
   "metadata": {},
   "source": [
    "### 2. Train a random forest on your training set"
   ]
  },
  {
   "cell_type": "markdown",
   "metadata": {},
   "source": [
    "We train a Random Forest in our trainning set. We also test the performance of our classifier with some random intial values for the estimator \"n_estimators\" and the max depth of the trees \"max_depth\" to decide about the area we want to apply the grid search. We observe that for n_estimators = 50 and max_depth = 20, the returned score is very low and we choose to extend the search to higher values."
   ]
  },
  {
   "cell_type": "code",
   "execution_count": null,
   "metadata": {},
   "outputs": [
    {
     "data": {
      "text/plain": [
       "0.55588790641982133"
      ]
     },
     "execution_count": 129,
     "metadata": {},
     "output_type": "execute_result"
    }
   ],
   "source": [
    "clf = RandomForestClassifier(n_estimators = 50, max_depth = 20)\n",
    "clf = clf.fit(X_train, y_train)\n",
    "\n",
    "scores = cross_val_score(clf, X_test, y_test)\n",
    "scores.mean()"
   ]
  },
  {
   "cell_type": "markdown",
   "metadata": {},
   "source": [
    "We use a grid search on the number of estimator \"n_estimators\" and the max depth of the trees \"max_depth\" to fine-tune the parameters of our predictor on your validation set. We decided to test the different values of the parameters according to the accuracy scores that we get from the cross validation. The cross validaiton set is defined by the attribute \"cv\" of the GridSearchCV(). cv=10 means 1 out of 10 data points will be used for validation, thus 10% of the training set."
   ]
  },
  {
   "cell_type": "code",
   "execution_count": null,
   "metadata": {},
   "outputs": [
    {
     "name": "stdout",
     "output_type": "stream",
     "text": [
      "---- Tune the parameters for accuracy metric ----\n",
      "\n"
     ]
    }
   ],
   "source": [
    "# the range of the values to be investigated in the grid search\n",
    "num_of_trees = range(100,200,25)\n",
    "maximum_depth = range(30,50,10)\n",
    "\n",
    "\n",
    "# Set the parameters to be tested\n",
    "tuned_parameters = [{'n_estimators': num_of_trees, 'max_depth': maximum_depth}]\n",
    "\n",
    "# evaluate based on accuracy metric \n",
    "scores = ['accuracy']\n",
    "\n",
    "# the  for loop enables the option to check for more than one metrics if needed\n",
    "for score in scores:\n",
    "    print(\"---- Tune the parameters for\", score, \"metric ----\\n\")\n",
    "    \n",
    "    \n",
    "    clf = GridSearchCV(RandomForestClassifier(), tuned_parameters, cv=5, n_jobs=-1)\n",
    "    clf.fit(X_train, y_train)\n",
    "\n",
    "    print(\"The best set of parameters found is:\\n\")\n",
    "    print(clf.best_params_, \"\\n\")\n",
    "    print(\"Grid scores on development set:\")\n",
    "    print()\n",
    "    means = clf.cv_results_['mean_test_score']\n",
    "    stds = clf.cv_results_['std_test_score']\n",
    "    for mean, std, params in zip(means, stds, clf.cv_results_['params']):\n",
    "        print(\"%0.3f (+/-%0.03f) for %r\"\n",
    "              % (mean, std * 2, params))\n",
    "    print()"
   ]
  },
  {
   "cell_type": "markdown",
   "metadata": {},
   "source": [
    "Now we create the confusion matrix. It is about a specific table layout that allows visualization of the performance of our predictor. Each column of the matrix represents the instances in a predicted class while each row represents the instances in an actual class (or vice versa)."
   ]
  },
  {
   "cell_type": "code",
   "execution_count": null,
   "metadata": {
    "collapsed": true
   },
   "outputs": [],
   "source": [
    "# The best values as defined from the grid search\n",
    "best_estimator = clf.best_params_['n_estimators']\n",
    "best_depth = clf.best_params_['max_depth']\n",
    "\n",
    "# The classifier is trained according to the best values\n",
    "clf_final = RandomForestClassifier(n_estimators = 30, max_depth = 10)\n",
    "clf_final = clf_final.fit(X_train, y_train)\n",
    "\n",
    "# The prediction of the classifier on the test set\n",
    "y_pred = clf_final.predict(X_test)\n",
    "\n",
    "# The confusion_matrix\n",
    "conf_matrix = confusion_matrix(y_test, y_pred,)"
   ]
  },
  {
   "cell_type": "markdown",
   "metadata": {},
   "source": [
    "A graphical representation of the Confusion Matrix presents in a more understandable way the performance of our predictor "
   ]
  },
  {
   "cell_type": "code",
   "execution_count": null,
   "metadata": {
    "collapsed": true
   },
   "outputs": [],
   "source": [
    "plt.figure(figsize=(12, 12))\n",
    "plt.title('Confusion matrix')\n",
    "sns.heatmap(conf_matrix, cmap='YlGn', annot=True)\n",
    "plt.xticks(np.arange(len(newsgroups_train.target_names)), newsgroups_train.target_names, rotation=90)\n",
    "plt.yticks(np.arange(len(newsgroups_train.target_names)), newsgroups_train.target_names, rotation=0)\n",
    "plt.show()"
   ]
  },
  {
   "cell_type": "markdown",
   "metadata": {},
   "source": [
    "When run the method will return the values 200 and 50 as optimal (if there's no output please run it on your machine) thanks."
   ]
  }
 ],
 "metadata": {
  "kernelspec": {
   "display_name": "Python 3",
   "language": "python",
   "name": "python3"
  },
  "language_info": {
   "codemirror_mode": {
    "name": "ipython",
    "version": 3
   },
   "file_extension": ".py",
   "mimetype": "text/x-python",
   "name": "python",
   "nbconvert_exporter": "python",
   "pygments_lexer": "ipython3",
   "version": "3.6.1"
  }
 },
 "nbformat": 4,
 "nbformat_minor": 2
}
